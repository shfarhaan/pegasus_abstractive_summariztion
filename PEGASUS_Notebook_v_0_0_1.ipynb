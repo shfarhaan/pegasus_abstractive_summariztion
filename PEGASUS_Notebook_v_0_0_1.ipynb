{
  "nbformat": 4,
  "nbformat_minor": 0,
  "metadata": {
    "colab": {
      "name": "PEGASUS Notebook v: 0.0.1",
      "provenance": [],
      "collapsed_sections": [],
      "authorship_tag": "ABX9TyPTR7UEUBWwSWH+70HY9Z+T",
      "include_colab_link": true
    },
    "kernelspec": {
      "name": "python3",
      "display_name": "Python 3"
    },
    "language_info": {
      "name": "python"
    },
    "widgets": {
      "application/vnd.jupyter.widget-state+json": {
        "df7b8bd7ccc24f34a3d3c0fccf1cf96b": {
          "model_module": "@jupyter-widgets/controls",
          "model_name": "HBoxModel",
          "model_module_version": "1.5.0",
          "state": {
            "_view_name": "HBoxView",
            "_dom_classes": [],
            "_model_name": "HBoxModel",
            "_view_module": "@jupyter-widgets/controls",
            "_model_module_version": "1.5.0",
            "_view_count": null,
            "_view_module_version": "1.5.0",
            "box_style": "",
            "layout": "IPY_MODEL_80ad4131b7fb4b169bb29690ed3c2494",
            "_model_module": "@jupyter-widgets/controls",
            "children": [
              "IPY_MODEL_d9d9bd4326f64ef7a2390a443fa474ee",
              "IPY_MODEL_d652d7a97d7d430a82fff602c0f7a158",
              "IPY_MODEL_382b287fd5e14e958060501c306b2dc7"
            ]
          }
        },
        "80ad4131b7fb4b169bb29690ed3c2494": {
          "model_module": "@jupyter-widgets/base",
          "model_name": "LayoutModel",
          "model_module_version": "1.2.0",
          "state": {
            "_view_name": "LayoutView",
            "grid_template_rows": null,
            "right": null,
            "justify_content": null,
            "_view_module": "@jupyter-widgets/base",
            "overflow": null,
            "_model_module_version": "1.2.0",
            "_view_count": null,
            "flex_flow": null,
            "width": null,
            "min_width": null,
            "border": null,
            "align_items": null,
            "bottom": null,
            "_model_module": "@jupyter-widgets/base",
            "top": null,
            "grid_column": null,
            "overflow_y": null,
            "overflow_x": null,
            "grid_auto_flow": null,
            "grid_area": null,
            "grid_template_columns": null,
            "flex": null,
            "_model_name": "LayoutModel",
            "justify_items": null,
            "grid_row": null,
            "max_height": null,
            "align_content": null,
            "visibility": null,
            "align_self": null,
            "height": null,
            "min_height": null,
            "padding": null,
            "grid_auto_rows": null,
            "grid_gap": null,
            "max_width": null,
            "order": null,
            "_view_module_version": "1.2.0",
            "grid_template_areas": null,
            "object_position": null,
            "object_fit": null,
            "grid_auto_columns": null,
            "margin": null,
            "display": null,
            "left": null
          }
        },
        "d9d9bd4326f64ef7a2390a443fa474ee": {
          "model_module": "@jupyter-widgets/controls",
          "model_name": "HTMLModel",
          "model_module_version": "1.5.0",
          "state": {
            "_view_name": "HTMLView",
            "style": "IPY_MODEL_e818fbba9dec4f459790655dea853f76",
            "_dom_classes": [],
            "description": "",
            "_model_name": "HTMLModel",
            "placeholder": "​",
            "_view_module": "@jupyter-widgets/controls",
            "_model_module_version": "1.5.0",
            "value": "Downloading: 100%",
            "_view_count": null,
            "_view_module_version": "1.5.0",
            "description_tooltip": null,
            "_model_module": "@jupyter-widgets/controls",
            "layout": "IPY_MODEL_a571b41429144af3b513e4a9fdc6291f"
          }
        },
        "d652d7a97d7d430a82fff602c0f7a158": {
          "model_module": "@jupyter-widgets/controls",
          "model_name": "FloatProgressModel",
          "model_module_version": "1.5.0",
          "state": {
            "_view_name": "ProgressView",
            "style": "IPY_MODEL_e3b6a9d4ebd14f1dbaef0ae28b93a61c",
            "_dom_classes": [],
            "description": "",
            "_model_name": "FloatProgressModel",
            "bar_style": "success",
            "max": 87,
            "_view_module": "@jupyter-widgets/controls",
            "_model_module_version": "1.5.0",
            "value": 87,
            "_view_count": null,
            "_view_module_version": "1.5.0",
            "orientation": "horizontal",
            "min": 0,
            "description_tooltip": null,
            "_model_module": "@jupyter-widgets/controls",
            "layout": "IPY_MODEL_4e9642faa97d41cabb4163d6694a27d9"
          }
        },
        "382b287fd5e14e958060501c306b2dc7": {
          "model_module": "@jupyter-widgets/controls",
          "model_name": "HTMLModel",
          "model_module_version": "1.5.0",
          "state": {
            "_view_name": "HTMLView",
            "style": "IPY_MODEL_684d9864f3824e798f328059e69c0012",
            "_dom_classes": [],
            "description": "",
            "_model_name": "HTMLModel",
            "placeholder": "​",
            "_view_module": "@jupyter-widgets/controls",
            "_model_module_version": "1.5.0",
            "value": " 87.0/87.0 [00:00&lt;00:00, 1.21kB/s]",
            "_view_count": null,
            "_view_module_version": "1.5.0",
            "description_tooltip": null,
            "_model_module": "@jupyter-widgets/controls",
            "layout": "IPY_MODEL_b205b0f92bd0413299e7248a8b2a8c0a"
          }
        },
        "e818fbba9dec4f459790655dea853f76": {
          "model_module": "@jupyter-widgets/controls",
          "model_name": "DescriptionStyleModel",
          "model_module_version": "1.5.0",
          "state": {
            "_view_name": "StyleView",
            "_model_name": "DescriptionStyleModel",
            "description_width": "",
            "_view_module": "@jupyter-widgets/base",
            "_model_module_version": "1.5.0",
            "_view_count": null,
            "_view_module_version": "1.2.0",
            "_model_module": "@jupyter-widgets/controls"
          }
        },
        "a571b41429144af3b513e4a9fdc6291f": {
          "model_module": "@jupyter-widgets/base",
          "model_name": "LayoutModel",
          "model_module_version": "1.2.0",
          "state": {
            "_view_name": "LayoutView",
            "grid_template_rows": null,
            "right": null,
            "justify_content": null,
            "_view_module": "@jupyter-widgets/base",
            "overflow": null,
            "_model_module_version": "1.2.0",
            "_view_count": null,
            "flex_flow": null,
            "width": null,
            "min_width": null,
            "border": null,
            "align_items": null,
            "bottom": null,
            "_model_module": "@jupyter-widgets/base",
            "top": null,
            "grid_column": null,
            "overflow_y": null,
            "overflow_x": null,
            "grid_auto_flow": null,
            "grid_area": null,
            "grid_template_columns": null,
            "flex": null,
            "_model_name": "LayoutModel",
            "justify_items": null,
            "grid_row": null,
            "max_height": null,
            "align_content": null,
            "visibility": null,
            "align_self": null,
            "height": null,
            "min_height": null,
            "padding": null,
            "grid_auto_rows": null,
            "grid_gap": null,
            "max_width": null,
            "order": null,
            "_view_module_version": "1.2.0",
            "grid_template_areas": null,
            "object_position": null,
            "object_fit": null,
            "grid_auto_columns": null,
            "margin": null,
            "display": null,
            "left": null
          }
        },
        "e3b6a9d4ebd14f1dbaef0ae28b93a61c": {
          "model_module": "@jupyter-widgets/controls",
          "model_name": "ProgressStyleModel",
          "model_module_version": "1.5.0",
          "state": {
            "_view_name": "StyleView",
            "_model_name": "ProgressStyleModel",
            "description_width": "",
            "_view_module": "@jupyter-widgets/base",
            "_model_module_version": "1.5.0",
            "_view_count": null,
            "_view_module_version": "1.2.0",
            "bar_color": null,
            "_model_module": "@jupyter-widgets/controls"
          }
        },
        "4e9642faa97d41cabb4163d6694a27d9": {
          "model_module": "@jupyter-widgets/base",
          "model_name": "LayoutModel",
          "model_module_version": "1.2.0",
          "state": {
            "_view_name": "LayoutView",
            "grid_template_rows": null,
            "right": null,
            "justify_content": null,
            "_view_module": "@jupyter-widgets/base",
            "overflow": null,
            "_model_module_version": "1.2.0",
            "_view_count": null,
            "flex_flow": null,
            "width": null,
            "min_width": null,
            "border": null,
            "align_items": null,
            "bottom": null,
            "_model_module": "@jupyter-widgets/base",
            "top": null,
            "grid_column": null,
            "overflow_y": null,
            "overflow_x": null,
            "grid_auto_flow": null,
            "grid_area": null,
            "grid_template_columns": null,
            "flex": null,
            "_model_name": "LayoutModel",
            "justify_items": null,
            "grid_row": null,
            "max_height": null,
            "align_content": null,
            "visibility": null,
            "align_self": null,
            "height": null,
            "min_height": null,
            "padding": null,
            "grid_auto_rows": null,
            "grid_gap": null,
            "max_width": null,
            "order": null,
            "_view_module_version": "1.2.0",
            "grid_template_areas": null,
            "object_position": null,
            "object_fit": null,
            "grid_auto_columns": null,
            "margin": null,
            "display": null,
            "left": null
          }
        },
        "684d9864f3824e798f328059e69c0012": {
          "model_module": "@jupyter-widgets/controls",
          "model_name": "DescriptionStyleModel",
          "model_module_version": "1.5.0",
          "state": {
            "_view_name": "StyleView",
            "_model_name": "DescriptionStyleModel",
            "description_width": "",
            "_view_module": "@jupyter-widgets/base",
            "_model_module_version": "1.5.0",
            "_view_count": null,
            "_view_module_version": "1.2.0",
            "_model_module": "@jupyter-widgets/controls"
          }
        },
        "b205b0f92bd0413299e7248a8b2a8c0a": {
          "model_module": "@jupyter-widgets/base",
          "model_name": "LayoutModel",
          "model_module_version": "1.2.0",
          "state": {
            "_view_name": "LayoutView",
            "grid_template_rows": null,
            "right": null,
            "justify_content": null,
            "_view_module": "@jupyter-widgets/base",
            "overflow": null,
            "_model_module_version": "1.2.0",
            "_view_count": null,
            "flex_flow": null,
            "width": null,
            "min_width": null,
            "border": null,
            "align_items": null,
            "bottom": null,
            "_model_module": "@jupyter-widgets/base",
            "top": null,
            "grid_column": null,
            "overflow_y": null,
            "overflow_x": null,
            "grid_auto_flow": null,
            "grid_area": null,
            "grid_template_columns": null,
            "flex": null,
            "_model_name": "LayoutModel",
            "justify_items": null,
            "grid_row": null,
            "max_height": null,
            "align_content": null,
            "visibility": null,
            "align_self": null,
            "height": null,
            "min_height": null,
            "padding": null,
            "grid_auto_rows": null,
            "grid_gap": null,
            "max_width": null,
            "order": null,
            "_view_module_version": "1.2.0",
            "grid_template_areas": null,
            "object_position": null,
            "object_fit": null,
            "grid_auto_columns": null,
            "margin": null,
            "display": null,
            "left": null
          }
        },
        "ae7e3cadd0bc41ae87bf2532cc81a7f6": {
          "model_module": "@jupyter-widgets/controls",
          "model_name": "HBoxModel",
          "model_module_version": "1.5.0",
          "state": {
            "_view_name": "HBoxView",
            "_dom_classes": [],
            "_model_name": "HBoxModel",
            "_view_module": "@jupyter-widgets/controls",
            "_model_module_version": "1.5.0",
            "_view_count": null,
            "_view_module_version": "1.5.0",
            "box_style": "",
            "layout": "IPY_MODEL_2cc1179fd48b403e9bed7ec7daf0a177",
            "_model_module": "@jupyter-widgets/controls",
            "children": [
              "IPY_MODEL_8f66cbf1e54a4215b634cf35f8cb9203",
              "IPY_MODEL_65d470382505447294369fdd1a768e77",
              "IPY_MODEL_61b7da073a1c4eacb3736704cafe3e3c"
            ]
          }
        },
        "2cc1179fd48b403e9bed7ec7daf0a177": {
          "model_module": "@jupyter-widgets/base",
          "model_name": "LayoutModel",
          "model_module_version": "1.2.0",
          "state": {
            "_view_name": "LayoutView",
            "grid_template_rows": null,
            "right": null,
            "justify_content": null,
            "_view_module": "@jupyter-widgets/base",
            "overflow": null,
            "_model_module_version": "1.2.0",
            "_view_count": null,
            "flex_flow": null,
            "width": null,
            "min_width": null,
            "border": null,
            "align_items": null,
            "bottom": null,
            "_model_module": "@jupyter-widgets/base",
            "top": null,
            "grid_column": null,
            "overflow_y": null,
            "overflow_x": null,
            "grid_auto_flow": null,
            "grid_area": null,
            "grid_template_columns": null,
            "flex": null,
            "_model_name": "LayoutModel",
            "justify_items": null,
            "grid_row": null,
            "max_height": null,
            "align_content": null,
            "visibility": null,
            "align_self": null,
            "height": null,
            "min_height": null,
            "padding": null,
            "grid_auto_rows": null,
            "grid_gap": null,
            "max_width": null,
            "order": null,
            "_view_module_version": "1.2.0",
            "grid_template_areas": null,
            "object_position": null,
            "object_fit": null,
            "grid_auto_columns": null,
            "margin": null,
            "display": null,
            "left": null
          }
        },
        "8f66cbf1e54a4215b634cf35f8cb9203": {
          "model_module": "@jupyter-widgets/controls",
          "model_name": "HTMLModel",
          "model_module_version": "1.5.0",
          "state": {
            "_view_name": "HTMLView",
            "style": "IPY_MODEL_05cab17c43c7445081f0b3fc23750889",
            "_dom_classes": [],
            "description": "",
            "_model_name": "HTMLModel",
            "placeholder": "​",
            "_view_module": "@jupyter-widgets/controls",
            "_model_module_version": "1.5.0",
            "value": "Downloading: 100%",
            "_view_count": null,
            "_view_module_version": "1.5.0",
            "description_tooltip": null,
            "_model_module": "@jupyter-widgets/controls",
            "layout": "IPY_MODEL_f7de332e002b441c884db9e740b99d28"
          }
        },
        "65d470382505447294369fdd1a768e77": {
          "model_module": "@jupyter-widgets/controls",
          "model_name": "FloatProgressModel",
          "model_module_version": "1.5.0",
          "state": {
            "_view_name": "ProgressView",
            "style": "IPY_MODEL_bdcb160986e146a0b679b6d1199333ff",
            "_dom_classes": [],
            "description": "",
            "_model_name": "FloatProgressModel",
            "bar_style": "success",
            "max": 1912529,
            "_view_module": "@jupyter-widgets/controls",
            "_model_module_version": "1.5.0",
            "value": 1912529,
            "_view_count": null,
            "_view_module_version": "1.5.0",
            "orientation": "horizontal",
            "min": 0,
            "description_tooltip": null,
            "_model_module": "@jupyter-widgets/controls",
            "layout": "IPY_MODEL_29c57aad08b34ec28aaa0120773e6a58"
          }
        },
        "61b7da073a1c4eacb3736704cafe3e3c": {
          "model_module": "@jupyter-widgets/controls",
          "model_name": "HTMLModel",
          "model_module_version": "1.5.0",
          "state": {
            "_view_name": "HTMLView",
            "style": "IPY_MODEL_e298cbb90c3f4130946d6178627f522c",
            "_dom_classes": [],
            "description": "",
            "_model_name": "HTMLModel",
            "placeholder": "​",
            "_view_module": "@jupyter-widgets/controls",
            "_model_module_version": "1.5.0",
            "value": " 1.82M/1.82M [00:00&lt;00:00, 13.0MB/s]",
            "_view_count": null,
            "_view_module_version": "1.5.0",
            "description_tooltip": null,
            "_model_module": "@jupyter-widgets/controls",
            "layout": "IPY_MODEL_44ac886c131c4f3f964a46e25d15eac9"
          }
        },
        "05cab17c43c7445081f0b3fc23750889": {
          "model_module": "@jupyter-widgets/controls",
          "model_name": "DescriptionStyleModel",
          "model_module_version": "1.5.0",
          "state": {
            "_view_name": "StyleView",
            "_model_name": "DescriptionStyleModel",
            "description_width": "",
            "_view_module": "@jupyter-widgets/base",
            "_model_module_version": "1.5.0",
            "_view_count": null,
            "_view_module_version": "1.2.0",
            "_model_module": "@jupyter-widgets/controls"
          }
        },
        "f7de332e002b441c884db9e740b99d28": {
          "model_module": "@jupyter-widgets/base",
          "model_name": "LayoutModel",
          "model_module_version": "1.2.0",
          "state": {
            "_view_name": "LayoutView",
            "grid_template_rows": null,
            "right": null,
            "justify_content": null,
            "_view_module": "@jupyter-widgets/base",
            "overflow": null,
            "_model_module_version": "1.2.0",
            "_view_count": null,
            "flex_flow": null,
            "width": null,
            "min_width": null,
            "border": null,
            "align_items": null,
            "bottom": null,
            "_model_module": "@jupyter-widgets/base",
            "top": null,
            "grid_column": null,
            "overflow_y": null,
            "overflow_x": null,
            "grid_auto_flow": null,
            "grid_area": null,
            "grid_template_columns": null,
            "flex": null,
            "_model_name": "LayoutModel",
            "justify_items": null,
            "grid_row": null,
            "max_height": null,
            "align_content": null,
            "visibility": null,
            "align_self": null,
            "height": null,
            "min_height": null,
            "padding": null,
            "grid_auto_rows": null,
            "grid_gap": null,
            "max_width": null,
            "order": null,
            "_view_module_version": "1.2.0",
            "grid_template_areas": null,
            "object_position": null,
            "object_fit": null,
            "grid_auto_columns": null,
            "margin": null,
            "display": null,
            "left": null
          }
        },
        "bdcb160986e146a0b679b6d1199333ff": {
          "model_module": "@jupyter-widgets/controls",
          "model_name": "ProgressStyleModel",
          "model_module_version": "1.5.0",
          "state": {
            "_view_name": "StyleView",
            "_model_name": "ProgressStyleModel",
            "description_width": "",
            "_view_module": "@jupyter-widgets/base",
            "_model_module_version": "1.5.0",
            "_view_count": null,
            "_view_module_version": "1.2.0",
            "bar_color": null,
            "_model_module": "@jupyter-widgets/controls"
          }
        },
        "29c57aad08b34ec28aaa0120773e6a58": {
          "model_module": "@jupyter-widgets/base",
          "model_name": "LayoutModel",
          "model_module_version": "1.2.0",
          "state": {
            "_view_name": "LayoutView",
            "grid_template_rows": null,
            "right": null,
            "justify_content": null,
            "_view_module": "@jupyter-widgets/base",
            "overflow": null,
            "_model_module_version": "1.2.0",
            "_view_count": null,
            "flex_flow": null,
            "width": null,
            "min_width": null,
            "border": null,
            "align_items": null,
            "bottom": null,
            "_model_module": "@jupyter-widgets/base",
            "top": null,
            "grid_column": null,
            "overflow_y": null,
            "overflow_x": null,
            "grid_auto_flow": null,
            "grid_area": null,
            "grid_template_columns": null,
            "flex": null,
            "_model_name": "LayoutModel",
            "justify_items": null,
            "grid_row": null,
            "max_height": null,
            "align_content": null,
            "visibility": null,
            "align_self": null,
            "height": null,
            "min_height": null,
            "padding": null,
            "grid_auto_rows": null,
            "grid_gap": null,
            "max_width": null,
            "order": null,
            "_view_module_version": "1.2.0",
            "grid_template_areas": null,
            "object_position": null,
            "object_fit": null,
            "grid_auto_columns": null,
            "margin": null,
            "display": null,
            "left": null
          }
        },
        "e298cbb90c3f4130946d6178627f522c": {
          "model_module": "@jupyter-widgets/controls",
          "model_name": "DescriptionStyleModel",
          "model_module_version": "1.5.0",
          "state": {
            "_view_name": "StyleView",
            "_model_name": "DescriptionStyleModel",
            "description_width": "",
            "_view_module": "@jupyter-widgets/base",
            "_model_module_version": "1.5.0",
            "_view_count": null,
            "_view_module_version": "1.2.0",
            "_model_module": "@jupyter-widgets/controls"
          }
        },
        "44ac886c131c4f3f964a46e25d15eac9": {
          "model_module": "@jupyter-widgets/base",
          "model_name": "LayoutModel",
          "model_module_version": "1.2.0",
          "state": {
            "_view_name": "LayoutView",
            "grid_template_rows": null,
            "right": null,
            "justify_content": null,
            "_view_module": "@jupyter-widgets/base",
            "overflow": null,
            "_model_module_version": "1.2.0",
            "_view_count": null,
            "flex_flow": null,
            "width": null,
            "min_width": null,
            "border": null,
            "align_items": null,
            "bottom": null,
            "_model_module": "@jupyter-widgets/base",
            "top": null,
            "grid_column": null,
            "overflow_y": null,
            "overflow_x": null,
            "grid_auto_flow": null,
            "grid_area": null,
            "grid_template_columns": null,
            "flex": null,
            "_model_name": "LayoutModel",
            "justify_items": null,
            "grid_row": null,
            "max_height": null,
            "align_content": null,
            "visibility": null,
            "align_self": null,
            "height": null,
            "min_height": null,
            "padding": null,
            "grid_auto_rows": null,
            "grid_gap": null,
            "max_width": null,
            "order": null,
            "_view_module_version": "1.2.0",
            "grid_template_areas": null,
            "object_position": null,
            "object_fit": null,
            "grid_auto_columns": null,
            "margin": null,
            "display": null,
            "left": null
          }
        },
        "12b7acfd88b34983a423336b3b202f4c": {
          "model_module": "@jupyter-widgets/controls",
          "model_name": "HBoxModel",
          "model_module_version": "1.5.0",
          "state": {
            "_view_name": "HBoxView",
            "_dom_classes": [],
            "_model_name": "HBoxModel",
            "_view_module": "@jupyter-widgets/controls",
            "_model_module_version": "1.5.0",
            "_view_count": null,
            "_view_module_version": "1.5.0",
            "box_style": "",
            "layout": "IPY_MODEL_01bfd2477878417fb6681989a9f634ac",
            "_model_module": "@jupyter-widgets/controls",
            "children": [
              "IPY_MODEL_5fcb11d58e414dff8a80bd31757cad59",
              "IPY_MODEL_7ff3272ecaaa4d3185389c28cf02c575",
              "IPY_MODEL_1156852a3d064edca6e5fdf3768a2a90"
            ]
          }
        },
        "01bfd2477878417fb6681989a9f634ac": {
          "model_module": "@jupyter-widgets/base",
          "model_name": "LayoutModel",
          "model_module_version": "1.2.0",
          "state": {
            "_view_name": "LayoutView",
            "grid_template_rows": null,
            "right": null,
            "justify_content": null,
            "_view_module": "@jupyter-widgets/base",
            "overflow": null,
            "_model_module_version": "1.2.0",
            "_view_count": null,
            "flex_flow": null,
            "width": null,
            "min_width": null,
            "border": null,
            "align_items": null,
            "bottom": null,
            "_model_module": "@jupyter-widgets/base",
            "top": null,
            "grid_column": null,
            "overflow_y": null,
            "overflow_x": null,
            "grid_auto_flow": null,
            "grid_area": null,
            "grid_template_columns": null,
            "flex": null,
            "_model_name": "LayoutModel",
            "justify_items": null,
            "grid_row": null,
            "max_height": null,
            "align_content": null,
            "visibility": null,
            "align_self": null,
            "height": null,
            "min_height": null,
            "padding": null,
            "grid_auto_rows": null,
            "grid_gap": null,
            "max_width": null,
            "order": null,
            "_view_module_version": "1.2.0",
            "grid_template_areas": null,
            "object_position": null,
            "object_fit": null,
            "grid_auto_columns": null,
            "margin": null,
            "display": null,
            "left": null
          }
        },
        "5fcb11d58e414dff8a80bd31757cad59": {
          "model_module": "@jupyter-widgets/controls",
          "model_name": "HTMLModel",
          "model_module_version": "1.5.0",
          "state": {
            "_view_name": "HTMLView",
            "style": "IPY_MODEL_6c7b725c507b4a1e851978a2024edb74",
            "_dom_classes": [],
            "description": "",
            "_model_name": "HTMLModel",
            "placeholder": "​",
            "_view_module": "@jupyter-widgets/controls",
            "_model_module_version": "1.5.0",
            "value": "Downloading: 100%",
            "_view_count": null,
            "_view_module_version": "1.5.0",
            "description_tooltip": null,
            "_model_module": "@jupyter-widgets/controls",
            "layout": "IPY_MODEL_508716e11d074494811996d968aa1d66"
          }
        },
        "7ff3272ecaaa4d3185389c28cf02c575": {
          "model_module": "@jupyter-widgets/controls",
          "model_name": "FloatProgressModel",
          "model_module_version": "1.5.0",
          "state": {
            "_view_name": "ProgressView",
            "style": "IPY_MODEL_ce9d77db57464f96bf056bf5eb7183f5",
            "_dom_classes": [],
            "description": "",
            "_model_name": "FloatProgressModel",
            "bar_style": "success",
            "max": 3520083,
            "_view_module": "@jupyter-widgets/controls",
            "_model_module_version": "1.5.0",
            "value": 3520083,
            "_view_count": null,
            "_view_module_version": "1.5.0",
            "orientation": "horizontal",
            "min": 0,
            "description_tooltip": null,
            "_model_module": "@jupyter-widgets/controls",
            "layout": "IPY_MODEL_384353b43f754abaa9d56e2c5bf3d5f2"
          }
        },
        "1156852a3d064edca6e5fdf3768a2a90": {
          "model_module": "@jupyter-widgets/controls",
          "model_name": "HTMLModel",
          "model_module_version": "1.5.0",
          "state": {
            "_view_name": "HTMLView",
            "style": "IPY_MODEL_d298314b3d7f44e786b6bb5f405ae468",
            "_dom_classes": [],
            "description": "",
            "_model_name": "HTMLModel",
            "placeholder": "​",
            "_view_module": "@jupyter-widgets/controls",
            "_model_module_version": "1.5.0",
            "value": " 3.36M/3.36M [00:00&lt;00:00, 7.31MB/s]",
            "_view_count": null,
            "_view_module_version": "1.5.0",
            "description_tooltip": null,
            "_model_module": "@jupyter-widgets/controls",
            "layout": "IPY_MODEL_15940d3376c84ae199decfdb405bee6c"
          }
        },
        "6c7b725c507b4a1e851978a2024edb74": {
          "model_module": "@jupyter-widgets/controls",
          "model_name": "DescriptionStyleModel",
          "model_module_version": "1.5.0",
          "state": {
            "_view_name": "StyleView",
            "_model_name": "DescriptionStyleModel",
            "description_width": "",
            "_view_module": "@jupyter-widgets/base",
            "_model_module_version": "1.5.0",
            "_view_count": null,
            "_view_module_version": "1.2.0",
            "_model_module": "@jupyter-widgets/controls"
          }
        },
        "508716e11d074494811996d968aa1d66": {
          "model_module": "@jupyter-widgets/base",
          "model_name": "LayoutModel",
          "model_module_version": "1.2.0",
          "state": {
            "_view_name": "LayoutView",
            "grid_template_rows": null,
            "right": null,
            "justify_content": null,
            "_view_module": "@jupyter-widgets/base",
            "overflow": null,
            "_model_module_version": "1.2.0",
            "_view_count": null,
            "flex_flow": null,
            "width": null,
            "min_width": null,
            "border": null,
            "align_items": null,
            "bottom": null,
            "_model_module": "@jupyter-widgets/base",
            "top": null,
            "grid_column": null,
            "overflow_y": null,
            "overflow_x": null,
            "grid_auto_flow": null,
            "grid_area": null,
            "grid_template_columns": null,
            "flex": null,
            "_model_name": "LayoutModel",
            "justify_items": null,
            "grid_row": null,
            "max_height": null,
            "align_content": null,
            "visibility": null,
            "align_self": null,
            "height": null,
            "min_height": null,
            "padding": null,
            "grid_auto_rows": null,
            "grid_gap": null,
            "max_width": null,
            "order": null,
            "_view_module_version": "1.2.0",
            "grid_template_areas": null,
            "object_position": null,
            "object_fit": null,
            "grid_auto_columns": null,
            "margin": null,
            "display": null,
            "left": null
          }
        },
        "ce9d77db57464f96bf056bf5eb7183f5": {
          "model_module": "@jupyter-widgets/controls",
          "model_name": "ProgressStyleModel",
          "model_module_version": "1.5.0",
          "state": {
            "_view_name": "StyleView",
            "_model_name": "ProgressStyleModel",
            "description_width": "",
            "_view_module": "@jupyter-widgets/base",
            "_model_module_version": "1.5.0",
            "_view_count": null,
            "_view_module_version": "1.2.0",
            "bar_color": null,
            "_model_module": "@jupyter-widgets/controls"
          }
        },
        "384353b43f754abaa9d56e2c5bf3d5f2": {
          "model_module": "@jupyter-widgets/base",
          "model_name": "LayoutModel",
          "model_module_version": "1.2.0",
          "state": {
            "_view_name": "LayoutView",
            "grid_template_rows": null,
            "right": null,
            "justify_content": null,
            "_view_module": "@jupyter-widgets/base",
            "overflow": null,
            "_model_module_version": "1.2.0",
            "_view_count": null,
            "flex_flow": null,
            "width": null,
            "min_width": null,
            "border": null,
            "align_items": null,
            "bottom": null,
            "_model_module": "@jupyter-widgets/base",
            "top": null,
            "grid_column": null,
            "overflow_y": null,
            "overflow_x": null,
            "grid_auto_flow": null,
            "grid_area": null,
            "grid_template_columns": null,
            "flex": null,
            "_model_name": "LayoutModel",
            "justify_items": null,
            "grid_row": null,
            "max_height": null,
            "align_content": null,
            "visibility": null,
            "align_self": null,
            "height": null,
            "min_height": null,
            "padding": null,
            "grid_auto_rows": null,
            "grid_gap": null,
            "max_width": null,
            "order": null,
            "_view_module_version": "1.2.0",
            "grid_template_areas": null,
            "object_position": null,
            "object_fit": null,
            "grid_auto_columns": null,
            "margin": null,
            "display": null,
            "left": null
          }
        },
        "d298314b3d7f44e786b6bb5f405ae468": {
          "model_module": "@jupyter-widgets/controls",
          "model_name": "DescriptionStyleModel",
          "model_module_version": "1.5.0",
          "state": {
            "_view_name": "StyleView",
            "_model_name": "DescriptionStyleModel",
            "description_width": "",
            "_view_module": "@jupyter-widgets/base",
            "_model_module_version": "1.5.0",
            "_view_count": null,
            "_view_module_version": "1.2.0",
            "_model_module": "@jupyter-widgets/controls"
          }
        },
        "15940d3376c84ae199decfdb405bee6c": {
          "model_module": "@jupyter-widgets/base",
          "model_name": "LayoutModel",
          "model_module_version": "1.2.0",
          "state": {
            "_view_name": "LayoutView",
            "grid_template_rows": null,
            "right": null,
            "justify_content": null,
            "_view_module": "@jupyter-widgets/base",
            "overflow": null,
            "_model_module_version": "1.2.0",
            "_view_count": null,
            "flex_flow": null,
            "width": null,
            "min_width": null,
            "border": null,
            "align_items": null,
            "bottom": null,
            "_model_module": "@jupyter-widgets/base",
            "top": null,
            "grid_column": null,
            "overflow_y": null,
            "overflow_x": null,
            "grid_auto_flow": null,
            "grid_area": null,
            "grid_template_columns": null,
            "flex": null,
            "_model_name": "LayoutModel",
            "justify_items": null,
            "grid_row": null,
            "max_height": null,
            "align_content": null,
            "visibility": null,
            "align_self": null,
            "height": null,
            "min_height": null,
            "padding": null,
            "grid_auto_rows": null,
            "grid_gap": null,
            "max_width": null,
            "order": null,
            "_view_module_version": "1.2.0",
            "grid_template_areas": null,
            "object_position": null,
            "object_fit": null,
            "grid_auto_columns": null,
            "margin": null,
            "display": null,
            "left": null
          }
        },
        "c7e674d0a6614c01b5efe837733cb88f": {
          "model_module": "@jupyter-widgets/controls",
          "model_name": "HBoxModel",
          "model_module_version": "1.5.0",
          "state": {
            "_view_name": "HBoxView",
            "_dom_classes": [],
            "_model_name": "HBoxModel",
            "_view_module": "@jupyter-widgets/controls",
            "_model_module_version": "1.5.0",
            "_view_count": null,
            "_view_module_version": "1.5.0",
            "box_style": "",
            "layout": "IPY_MODEL_8cbd200497144745aab7e9df64a10e2e",
            "_model_module": "@jupyter-widgets/controls",
            "children": [
              "IPY_MODEL_02599539bbea44daa4d54716aa79f3a9",
              "IPY_MODEL_94380669f3b34fd094694a4d3f1ed34b",
              "IPY_MODEL_2a06748019354fe89314dee478a706da"
            ]
          }
        },
        "8cbd200497144745aab7e9df64a10e2e": {
          "model_module": "@jupyter-widgets/base",
          "model_name": "LayoutModel",
          "model_module_version": "1.2.0",
          "state": {
            "_view_name": "LayoutView",
            "grid_template_rows": null,
            "right": null,
            "justify_content": null,
            "_view_module": "@jupyter-widgets/base",
            "overflow": null,
            "_model_module_version": "1.2.0",
            "_view_count": null,
            "flex_flow": null,
            "width": null,
            "min_width": null,
            "border": null,
            "align_items": null,
            "bottom": null,
            "_model_module": "@jupyter-widgets/base",
            "top": null,
            "grid_column": null,
            "overflow_y": null,
            "overflow_x": null,
            "grid_auto_flow": null,
            "grid_area": null,
            "grid_template_columns": null,
            "flex": null,
            "_model_name": "LayoutModel",
            "justify_items": null,
            "grid_row": null,
            "max_height": null,
            "align_content": null,
            "visibility": null,
            "align_self": null,
            "height": null,
            "min_height": null,
            "padding": null,
            "grid_auto_rows": null,
            "grid_gap": null,
            "max_width": null,
            "order": null,
            "_view_module_version": "1.2.0",
            "grid_template_areas": null,
            "object_position": null,
            "object_fit": null,
            "grid_auto_columns": null,
            "margin": null,
            "display": null,
            "left": null
          }
        },
        "02599539bbea44daa4d54716aa79f3a9": {
          "model_module": "@jupyter-widgets/controls",
          "model_name": "HTMLModel",
          "model_module_version": "1.5.0",
          "state": {
            "_view_name": "HTMLView",
            "style": "IPY_MODEL_34a9465544034daeb9ad7b9c0be4da7a",
            "_dom_classes": [],
            "description": "",
            "_model_name": "HTMLModel",
            "placeholder": "​",
            "_view_module": "@jupyter-widgets/controls",
            "_model_module_version": "1.5.0",
            "value": "Downloading: 100%",
            "_view_count": null,
            "_view_module_version": "1.5.0",
            "description_tooltip": null,
            "_model_module": "@jupyter-widgets/controls",
            "layout": "IPY_MODEL_b18ca7096f5044d5a447e756323901ab"
          }
        },
        "94380669f3b34fd094694a4d3f1ed34b": {
          "model_module": "@jupyter-widgets/controls",
          "model_name": "FloatProgressModel",
          "model_module_version": "1.5.0",
          "state": {
            "_view_name": "ProgressView",
            "style": "IPY_MODEL_d4312b94e696437ca66c889bae7a8927",
            "_dom_classes": [],
            "description": "",
            "_model_name": "FloatProgressModel",
            "bar_style": "success",
            "max": 65,
            "_view_module": "@jupyter-widgets/controls",
            "_model_module_version": "1.5.0",
            "value": 65,
            "_view_count": null,
            "_view_module_version": "1.5.0",
            "orientation": "horizontal",
            "min": 0,
            "description_tooltip": null,
            "_model_module": "@jupyter-widgets/controls",
            "layout": "IPY_MODEL_573b90fd5caf4e739cb62547eeefd284"
          }
        },
        "2a06748019354fe89314dee478a706da": {
          "model_module": "@jupyter-widgets/controls",
          "model_name": "HTMLModel",
          "model_module_version": "1.5.0",
          "state": {
            "_view_name": "HTMLView",
            "style": "IPY_MODEL_e54cbb4040c64c92a2d6f19355ce0636",
            "_dom_classes": [],
            "description": "",
            "_model_name": "HTMLModel",
            "placeholder": "​",
            "_view_module": "@jupyter-widgets/controls",
            "_model_module_version": "1.5.0",
            "value": " 65.0/65.0 [00:00&lt;00:00, 1.64kB/s]",
            "_view_count": null,
            "_view_module_version": "1.5.0",
            "description_tooltip": null,
            "_model_module": "@jupyter-widgets/controls",
            "layout": "IPY_MODEL_594ff0ae2a0e4d6da660544d6e027955"
          }
        },
        "34a9465544034daeb9ad7b9c0be4da7a": {
          "model_module": "@jupyter-widgets/controls",
          "model_name": "DescriptionStyleModel",
          "model_module_version": "1.5.0",
          "state": {
            "_view_name": "StyleView",
            "_model_name": "DescriptionStyleModel",
            "description_width": "",
            "_view_module": "@jupyter-widgets/base",
            "_model_module_version": "1.5.0",
            "_view_count": null,
            "_view_module_version": "1.2.0",
            "_model_module": "@jupyter-widgets/controls"
          }
        },
        "b18ca7096f5044d5a447e756323901ab": {
          "model_module": "@jupyter-widgets/base",
          "model_name": "LayoutModel",
          "model_module_version": "1.2.0",
          "state": {
            "_view_name": "LayoutView",
            "grid_template_rows": null,
            "right": null,
            "justify_content": null,
            "_view_module": "@jupyter-widgets/base",
            "overflow": null,
            "_model_module_version": "1.2.0",
            "_view_count": null,
            "flex_flow": null,
            "width": null,
            "min_width": null,
            "border": null,
            "align_items": null,
            "bottom": null,
            "_model_module": "@jupyter-widgets/base",
            "top": null,
            "grid_column": null,
            "overflow_y": null,
            "overflow_x": null,
            "grid_auto_flow": null,
            "grid_area": null,
            "grid_template_columns": null,
            "flex": null,
            "_model_name": "LayoutModel",
            "justify_items": null,
            "grid_row": null,
            "max_height": null,
            "align_content": null,
            "visibility": null,
            "align_self": null,
            "height": null,
            "min_height": null,
            "padding": null,
            "grid_auto_rows": null,
            "grid_gap": null,
            "max_width": null,
            "order": null,
            "_view_module_version": "1.2.0",
            "grid_template_areas": null,
            "object_position": null,
            "object_fit": null,
            "grid_auto_columns": null,
            "margin": null,
            "display": null,
            "left": null
          }
        },
        "d4312b94e696437ca66c889bae7a8927": {
          "model_module": "@jupyter-widgets/controls",
          "model_name": "ProgressStyleModel",
          "model_module_version": "1.5.0",
          "state": {
            "_view_name": "StyleView",
            "_model_name": "ProgressStyleModel",
            "description_width": "",
            "_view_module": "@jupyter-widgets/base",
            "_model_module_version": "1.5.0",
            "_view_count": null,
            "_view_module_version": "1.2.0",
            "bar_color": null,
            "_model_module": "@jupyter-widgets/controls"
          }
        },
        "573b90fd5caf4e739cb62547eeefd284": {
          "model_module": "@jupyter-widgets/base",
          "model_name": "LayoutModel",
          "model_module_version": "1.2.0",
          "state": {
            "_view_name": "LayoutView",
            "grid_template_rows": null,
            "right": null,
            "justify_content": null,
            "_view_module": "@jupyter-widgets/base",
            "overflow": null,
            "_model_module_version": "1.2.0",
            "_view_count": null,
            "flex_flow": null,
            "width": null,
            "min_width": null,
            "border": null,
            "align_items": null,
            "bottom": null,
            "_model_module": "@jupyter-widgets/base",
            "top": null,
            "grid_column": null,
            "overflow_y": null,
            "overflow_x": null,
            "grid_auto_flow": null,
            "grid_area": null,
            "grid_template_columns": null,
            "flex": null,
            "_model_name": "LayoutModel",
            "justify_items": null,
            "grid_row": null,
            "max_height": null,
            "align_content": null,
            "visibility": null,
            "align_self": null,
            "height": null,
            "min_height": null,
            "padding": null,
            "grid_auto_rows": null,
            "grid_gap": null,
            "max_width": null,
            "order": null,
            "_view_module_version": "1.2.0",
            "grid_template_areas": null,
            "object_position": null,
            "object_fit": null,
            "grid_auto_columns": null,
            "margin": null,
            "display": null,
            "left": null
          }
        },
        "e54cbb4040c64c92a2d6f19355ce0636": {
          "model_module": "@jupyter-widgets/controls",
          "model_name": "DescriptionStyleModel",
          "model_module_version": "1.5.0",
          "state": {
            "_view_name": "StyleView",
            "_model_name": "DescriptionStyleModel",
            "description_width": "",
            "_view_module": "@jupyter-widgets/base",
            "_model_module_version": "1.5.0",
            "_view_count": null,
            "_view_module_version": "1.2.0",
            "_model_module": "@jupyter-widgets/controls"
          }
        },
        "594ff0ae2a0e4d6da660544d6e027955": {
          "model_module": "@jupyter-widgets/base",
          "model_name": "LayoutModel",
          "model_module_version": "1.2.0",
          "state": {
            "_view_name": "LayoutView",
            "grid_template_rows": null,
            "right": null,
            "justify_content": null,
            "_view_module": "@jupyter-widgets/base",
            "overflow": null,
            "_model_module_version": "1.2.0",
            "_view_count": null,
            "flex_flow": null,
            "width": null,
            "min_width": null,
            "border": null,
            "align_items": null,
            "bottom": null,
            "_model_module": "@jupyter-widgets/base",
            "top": null,
            "grid_column": null,
            "overflow_y": null,
            "overflow_x": null,
            "grid_auto_flow": null,
            "grid_area": null,
            "grid_template_columns": null,
            "flex": null,
            "_model_name": "LayoutModel",
            "justify_items": null,
            "grid_row": null,
            "max_height": null,
            "align_content": null,
            "visibility": null,
            "align_self": null,
            "height": null,
            "min_height": null,
            "padding": null,
            "grid_auto_rows": null,
            "grid_gap": null,
            "max_width": null,
            "order": null,
            "_view_module_version": "1.2.0",
            "grid_template_areas": null,
            "object_position": null,
            "object_fit": null,
            "grid_auto_columns": null,
            "margin": null,
            "display": null,
            "left": null
          }
        },
        "fe1e4edaee134c4f8e4167d1043d37d3": {
          "model_module": "@jupyter-widgets/controls",
          "model_name": "HBoxModel",
          "model_module_version": "1.5.0",
          "state": {
            "_view_name": "HBoxView",
            "_dom_classes": [],
            "_model_name": "HBoxModel",
            "_view_module": "@jupyter-widgets/controls",
            "_model_module_version": "1.5.0",
            "_view_count": null,
            "_view_module_version": "1.5.0",
            "box_style": "",
            "layout": "IPY_MODEL_462a0663ecda40fe90317f762cb8e841",
            "_model_module": "@jupyter-widgets/controls",
            "children": [
              "IPY_MODEL_a198332b4baf4a4ba664a2173b0becd2",
              "IPY_MODEL_d6c80599c4094d43946e22fd8da6499a",
              "IPY_MODEL_7c972915b1704d1eaf12f9900c4842ab"
            ]
          }
        },
        "462a0663ecda40fe90317f762cb8e841": {
          "model_module": "@jupyter-widgets/base",
          "model_name": "LayoutModel",
          "model_module_version": "1.2.0",
          "state": {
            "_view_name": "LayoutView",
            "grid_template_rows": null,
            "right": null,
            "justify_content": null,
            "_view_module": "@jupyter-widgets/base",
            "overflow": null,
            "_model_module_version": "1.2.0",
            "_view_count": null,
            "flex_flow": null,
            "width": null,
            "min_width": null,
            "border": null,
            "align_items": null,
            "bottom": null,
            "_model_module": "@jupyter-widgets/base",
            "top": null,
            "grid_column": null,
            "overflow_y": null,
            "overflow_x": null,
            "grid_auto_flow": null,
            "grid_area": null,
            "grid_template_columns": null,
            "flex": null,
            "_model_name": "LayoutModel",
            "justify_items": null,
            "grid_row": null,
            "max_height": null,
            "align_content": null,
            "visibility": null,
            "align_self": null,
            "height": null,
            "min_height": null,
            "padding": null,
            "grid_auto_rows": null,
            "grid_gap": null,
            "max_width": null,
            "order": null,
            "_view_module_version": "1.2.0",
            "grid_template_areas": null,
            "object_position": null,
            "object_fit": null,
            "grid_auto_columns": null,
            "margin": null,
            "display": null,
            "left": null
          }
        },
        "a198332b4baf4a4ba664a2173b0becd2": {
          "model_module": "@jupyter-widgets/controls",
          "model_name": "HTMLModel",
          "model_module_version": "1.5.0",
          "state": {
            "_view_name": "HTMLView",
            "style": "IPY_MODEL_528e1897d89b45a0b68e405658b50551",
            "_dom_classes": [],
            "description": "",
            "_model_name": "HTMLModel",
            "placeholder": "​",
            "_view_module": "@jupyter-widgets/controls",
            "_model_module_version": "1.5.0",
            "value": "Downloading: 100%",
            "_view_count": null,
            "_view_module_version": "1.5.0",
            "description_tooltip": null,
            "_model_module": "@jupyter-widgets/controls",
            "layout": "IPY_MODEL_0f81e49c8def412db0ec3349d555ee94"
          }
        },
        "d6c80599c4094d43946e22fd8da6499a": {
          "model_module": "@jupyter-widgets/controls",
          "model_name": "FloatProgressModel",
          "model_module_version": "1.5.0",
          "state": {
            "_view_name": "ProgressView",
            "style": "IPY_MODEL_778e6c670ca243d08b9f6a888a06aa93",
            "_dom_classes": [],
            "description": "",
            "_model_name": "FloatProgressModel",
            "bar_style": "success",
            "max": 1392,
            "_view_module": "@jupyter-widgets/controls",
            "_model_module_version": "1.5.0",
            "value": 1392,
            "_view_count": null,
            "_view_module_version": "1.5.0",
            "orientation": "horizontal",
            "min": 0,
            "description_tooltip": null,
            "_model_module": "@jupyter-widgets/controls",
            "layout": "IPY_MODEL_8373188599774853a66fc494a39a683d"
          }
        },
        "7c972915b1704d1eaf12f9900c4842ab": {
          "model_module": "@jupyter-widgets/controls",
          "model_name": "HTMLModel",
          "model_module_version": "1.5.0",
          "state": {
            "_view_name": "HTMLView",
            "style": "IPY_MODEL_9a3e7e38e3f9434da425cc09c78f116e",
            "_dom_classes": [],
            "description": "",
            "_model_name": "HTMLModel",
            "placeholder": "​",
            "_view_module": "@jupyter-widgets/controls",
            "_model_module_version": "1.5.0",
            "value": " 1.36k/1.36k [00:00&lt;00:00, 28.9kB/s]",
            "_view_count": null,
            "_view_module_version": "1.5.0",
            "description_tooltip": null,
            "_model_module": "@jupyter-widgets/controls",
            "layout": "IPY_MODEL_592ed81082774e5fb96255989e0f0ab8"
          }
        },
        "528e1897d89b45a0b68e405658b50551": {
          "model_module": "@jupyter-widgets/controls",
          "model_name": "DescriptionStyleModel",
          "model_module_version": "1.5.0",
          "state": {
            "_view_name": "StyleView",
            "_model_name": "DescriptionStyleModel",
            "description_width": "",
            "_view_module": "@jupyter-widgets/base",
            "_model_module_version": "1.5.0",
            "_view_count": null,
            "_view_module_version": "1.2.0",
            "_model_module": "@jupyter-widgets/controls"
          }
        },
        "0f81e49c8def412db0ec3349d555ee94": {
          "model_module": "@jupyter-widgets/base",
          "model_name": "LayoutModel",
          "model_module_version": "1.2.0",
          "state": {
            "_view_name": "LayoutView",
            "grid_template_rows": null,
            "right": null,
            "justify_content": null,
            "_view_module": "@jupyter-widgets/base",
            "overflow": null,
            "_model_module_version": "1.2.0",
            "_view_count": null,
            "flex_flow": null,
            "width": null,
            "min_width": null,
            "border": null,
            "align_items": null,
            "bottom": null,
            "_model_module": "@jupyter-widgets/base",
            "top": null,
            "grid_column": null,
            "overflow_y": null,
            "overflow_x": null,
            "grid_auto_flow": null,
            "grid_area": null,
            "grid_template_columns": null,
            "flex": null,
            "_model_name": "LayoutModel",
            "justify_items": null,
            "grid_row": null,
            "max_height": null,
            "align_content": null,
            "visibility": null,
            "align_self": null,
            "height": null,
            "min_height": null,
            "padding": null,
            "grid_auto_rows": null,
            "grid_gap": null,
            "max_width": null,
            "order": null,
            "_view_module_version": "1.2.0",
            "grid_template_areas": null,
            "object_position": null,
            "object_fit": null,
            "grid_auto_columns": null,
            "margin": null,
            "display": null,
            "left": null
          }
        },
        "778e6c670ca243d08b9f6a888a06aa93": {
          "model_module": "@jupyter-widgets/controls",
          "model_name": "ProgressStyleModel",
          "model_module_version": "1.5.0",
          "state": {
            "_view_name": "StyleView",
            "_model_name": "ProgressStyleModel",
            "description_width": "",
            "_view_module": "@jupyter-widgets/base",
            "_model_module_version": "1.5.0",
            "_view_count": null,
            "_view_module_version": "1.2.0",
            "bar_color": null,
            "_model_module": "@jupyter-widgets/controls"
          }
        },
        "8373188599774853a66fc494a39a683d": {
          "model_module": "@jupyter-widgets/base",
          "model_name": "LayoutModel",
          "model_module_version": "1.2.0",
          "state": {
            "_view_name": "LayoutView",
            "grid_template_rows": null,
            "right": null,
            "justify_content": null,
            "_view_module": "@jupyter-widgets/base",
            "overflow": null,
            "_model_module_version": "1.2.0",
            "_view_count": null,
            "flex_flow": null,
            "width": null,
            "min_width": null,
            "border": null,
            "align_items": null,
            "bottom": null,
            "_model_module": "@jupyter-widgets/base",
            "top": null,
            "grid_column": null,
            "overflow_y": null,
            "overflow_x": null,
            "grid_auto_flow": null,
            "grid_area": null,
            "grid_template_columns": null,
            "flex": null,
            "_model_name": "LayoutModel",
            "justify_items": null,
            "grid_row": null,
            "max_height": null,
            "align_content": null,
            "visibility": null,
            "align_self": null,
            "height": null,
            "min_height": null,
            "padding": null,
            "grid_auto_rows": null,
            "grid_gap": null,
            "max_width": null,
            "order": null,
            "_view_module_version": "1.2.0",
            "grid_template_areas": null,
            "object_position": null,
            "object_fit": null,
            "grid_auto_columns": null,
            "margin": null,
            "display": null,
            "left": null
          }
        },
        "9a3e7e38e3f9434da425cc09c78f116e": {
          "model_module": "@jupyter-widgets/controls",
          "model_name": "DescriptionStyleModel",
          "model_module_version": "1.5.0",
          "state": {
            "_view_name": "StyleView",
            "_model_name": "DescriptionStyleModel",
            "description_width": "",
            "_view_module": "@jupyter-widgets/base",
            "_model_module_version": "1.5.0",
            "_view_count": null,
            "_view_module_version": "1.2.0",
            "_model_module": "@jupyter-widgets/controls"
          }
        },
        "592ed81082774e5fb96255989e0f0ab8": {
          "model_module": "@jupyter-widgets/base",
          "model_name": "LayoutModel",
          "model_module_version": "1.2.0",
          "state": {
            "_view_name": "LayoutView",
            "grid_template_rows": null,
            "right": null,
            "justify_content": null,
            "_view_module": "@jupyter-widgets/base",
            "overflow": null,
            "_model_module_version": "1.2.0",
            "_view_count": null,
            "flex_flow": null,
            "width": null,
            "min_width": null,
            "border": null,
            "align_items": null,
            "bottom": null,
            "_model_module": "@jupyter-widgets/base",
            "top": null,
            "grid_column": null,
            "overflow_y": null,
            "overflow_x": null,
            "grid_auto_flow": null,
            "grid_area": null,
            "grid_template_columns": null,
            "flex": null,
            "_model_name": "LayoutModel",
            "justify_items": null,
            "grid_row": null,
            "max_height": null,
            "align_content": null,
            "visibility": null,
            "align_self": null,
            "height": null,
            "min_height": null,
            "padding": null,
            "grid_auto_rows": null,
            "grid_gap": null,
            "max_width": null,
            "order": null,
            "_view_module_version": "1.2.0",
            "grid_template_areas": null,
            "object_position": null,
            "object_fit": null,
            "grid_auto_columns": null,
            "margin": null,
            "display": null,
            "left": null
          }
        },
        "bb9ea132c630482eb9f81cd5b00a52b6": {
          "model_module": "@jupyter-widgets/controls",
          "model_name": "HBoxModel",
          "model_module_version": "1.5.0",
          "state": {
            "_view_name": "HBoxView",
            "_dom_classes": [],
            "_model_name": "HBoxModel",
            "_view_module": "@jupyter-widgets/controls",
            "_model_module_version": "1.5.0",
            "_view_count": null,
            "_view_module_version": "1.5.0",
            "box_style": "",
            "layout": "IPY_MODEL_a0fea082c5d94a3c9bb41e934bbffcaf",
            "_model_module": "@jupyter-widgets/controls",
            "children": [
              "IPY_MODEL_ab00e2f2620b48ad986a4cafa64d0efc",
              "IPY_MODEL_b066e69d61304c069f3d6776ed111562",
              "IPY_MODEL_08169c73b15a46529324d566225acdbb"
            ]
          }
        },
        "a0fea082c5d94a3c9bb41e934bbffcaf": {
          "model_module": "@jupyter-widgets/base",
          "model_name": "LayoutModel",
          "model_module_version": "1.2.0",
          "state": {
            "_view_name": "LayoutView",
            "grid_template_rows": null,
            "right": null,
            "justify_content": null,
            "_view_module": "@jupyter-widgets/base",
            "overflow": null,
            "_model_module_version": "1.2.0",
            "_view_count": null,
            "flex_flow": null,
            "width": null,
            "min_width": null,
            "border": null,
            "align_items": null,
            "bottom": null,
            "_model_module": "@jupyter-widgets/base",
            "top": null,
            "grid_column": null,
            "overflow_y": null,
            "overflow_x": null,
            "grid_auto_flow": null,
            "grid_area": null,
            "grid_template_columns": null,
            "flex": null,
            "_model_name": "LayoutModel",
            "justify_items": null,
            "grid_row": null,
            "max_height": null,
            "align_content": null,
            "visibility": null,
            "align_self": null,
            "height": null,
            "min_height": null,
            "padding": null,
            "grid_auto_rows": null,
            "grid_gap": null,
            "max_width": null,
            "order": null,
            "_view_module_version": "1.2.0",
            "grid_template_areas": null,
            "object_position": null,
            "object_fit": null,
            "grid_auto_columns": null,
            "margin": null,
            "display": null,
            "left": null
          }
        },
        "ab00e2f2620b48ad986a4cafa64d0efc": {
          "model_module": "@jupyter-widgets/controls",
          "model_name": "HTMLModel",
          "model_module_version": "1.5.0",
          "state": {
            "_view_name": "HTMLView",
            "style": "IPY_MODEL_45a78ed9152942a1ad8f3f1d8618c5db",
            "_dom_classes": [],
            "description": "",
            "_model_name": "HTMLModel",
            "placeholder": "​",
            "_view_module": "@jupyter-widgets/controls",
            "_model_module_version": "1.5.0",
            "value": "Downloading: 100%",
            "_view_count": null,
            "_view_module_version": "1.5.0",
            "description_tooltip": null,
            "_model_module": "@jupyter-widgets/controls",
            "layout": "IPY_MODEL_5b989124624a4ff6bd8575fe2abdd58c"
          }
        },
        "b066e69d61304c069f3d6776ed111562": {
          "model_module": "@jupyter-widgets/controls",
          "model_name": "FloatProgressModel",
          "model_module_version": "1.5.0",
          "state": {
            "_view_name": "ProgressView",
            "style": "IPY_MODEL_4d4f04efcd7c4415bfe6cc85863bd4d4",
            "_dom_classes": [],
            "description": "",
            "_model_name": "FloatProgressModel",
            "bar_style": "success",
            "max": 2275329241,
            "_view_module": "@jupyter-widgets/controls",
            "_model_module_version": "1.5.0",
            "value": 2275329241,
            "_view_count": null,
            "_view_module_version": "1.5.0",
            "orientation": "horizontal",
            "min": 0,
            "description_tooltip": null,
            "_model_module": "@jupyter-widgets/controls",
            "layout": "IPY_MODEL_8044c378eea14ebdb65dd66d32717161"
          }
        },
        "08169c73b15a46529324d566225acdbb": {
          "model_module": "@jupyter-widgets/controls",
          "model_name": "HTMLModel",
          "model_module_version": "1.5.0",
          "state": {
            "_view_name": "HTMLView",
            "style": "IPY_MODEL_bc6d5c2fe1b94abd82b3614f426eacea",
            "_dom_classes": [],
            "description": "",
            "_model_name": "HTMLModel",
            "placeholder": "​",
            "_view_module": "@jupyter-widgets/controls",
            "_model_module_version": "1.5.0",
            "value": " 2.12G/2.12G [01:03&lt;00:00, 39.9MB/s]",
            "_view_count": null,
            "_view_module_version": "1.5.0",
            "description_tooltip": null,
            "_model_module": "@jupyter-widgets/controls",
            "layout": "IPY_MODEL_c708e6b136f04eea9562b73229b66302"
          }
        },
        "45a78ed9152942a1ad8f3f1d8618c5db": {
          "model_module": "@jupyter-widgets/controls",
          "model_name": "DescriptionStyleModel",
          "model_module_version": "1.5.0",
          "state": {
            "_view_name": "StyleView",
            "_model_name": "DescriptionStyleModel",
            "description_width": "",
            "_view_module": "@jupyter-widgets/base",
            "_model_module_version": "1.5.0",
            "_view_count": null,
            "_view_module_version": "1.2.0",
            "_model_module": "@jupyter-widgets/controls"
          }
        },
        "5b989124624a4ff6bd8575fe2abdd58c": {
          "model_module": "@jupyter-widgets/base",
          "model_name": "LayoutModel",
          "model_module_version": "1.2.0",
          "state": {
            "_view_name": "LayoutView",
            "grid_template_rows": null,
            "right": null,
            "justify_content": null,
            "_view_module": "@jupyter-widgets/base",
            "overflow": null,
            "_model_module_version": "1.2.0",
            "_view_count": null,
            "flex_flow": null,
            "width": null,
            "min_width": null,
            "border": null,
            "align_items": null,
            "bottom": null,
            "_model_module": "@jupyter-widgets/base",
            "top": null,
            "grid_column": null,
            "overflow_y": null,
            "overflow_x": null,
            "grid_auto_flow": null,
            "grid_area": null,
            "grid_template_columns": null,
            "flex": null,
            "_model_name": "LayoutModel",
            "justify_items": null,
            "grid_row": null,
            "max_height": null,
            "align_content": null,
            "visibility": null,
            "align_self": null,
            "height": null,
            "min_height": null,
            "padding": null,
            "grid_auto_rows": null,
            "grid_gap": null,
            "max_width": null,
            "order": null,
            "_view_module_version": "1.2.0",
            "grid_template_areas": null,
            "object_position": null,
            "object_fit": null,
            "grid_auto_columns": null,
            "margin": null,
            "display": null,
            "left": null
          }
        },
        "4d4f04efcd7c4415bfe6cc85863bd4d4": {
          "model_module": "@jupyter-widgets/controls",
          "model_name": "ProgressStyleModel",
          "model_module_version": "1.5.0",
          "state": {
            "_view_name": "StyleView",
            "_model_name": "ProgressStyleModel",
            "description_width": "",
            "_view_module": "@jupyter-widgets/base",
            "_model_module_version": "1.5.0",
            "_view_count": null,
            "_view_module_version": "1.2.0",
            "bar_color": null,
            "_model_module": "@jupyter-widgets/controls"
          }
        },
        "8044c378eea14ebdb65dd66d32717161": {
          "model_module": "@jupyter-widgets/base",
          "model_name": "LayoutModel",
          "model_module_version": "1.2.0",
          "state": {
            "_view_name": "LayoutView",
            "grid_template_rows": null,
            "right": null,
            "justify_content": null,
            "_view_module": "@jupyter-widgets/base",
            "overflow": null,
            "_model_module_version": "1.2.0",
            "_view_count": null,
            "flex_flow": null,
            "width": null,
            "min_width": null,
            "border": null,
            "align_items": null,
            "bottom": null,
            "_model_module": "@jupyter-widgets/base",
            "top": null,
            "grid_column": null,
            "overflow_y": null,
            "overflow_x": null,
            "grid_auto_flow": null,
            "grid_area": null,
            "grid_template_columns": null,
            "flex": null,
            "_model_name": "LayoutModel",
            "justify_items": null,
            "grid_row": null,
            "max_height": null,
            "align_content": null,
            "visibility": null,
            "align_self": null,
            "height": null,
            "min_height": null,
            "padding": null,
            "grid_auto_rows": null,
            "grid_gap": null,
            "max_width": null,
            "order": null,
            "_view_module_version": "1.2.0",
            "grid_template_areas": null,
            "object_position": null,
            "object_fit": null,
            "grid_auto_columns": null,
            "margin": null,
            "display": null,
            "left": null
          }
        },
        "bc6d5c2fe1b94abd82b3614f426eacea": {
          "model_module": "@jupyter-widgets/controls",
          "model_name": "DescriptionStyleModel",
          "model_module_version": "1.5.0",
          "state": {
            "_view_name": "StyleView",
            "_model_name": "DescriptionStyleModel",
            "description_width": "",
            "_view_module": "@jupyter-widgets/base",
            "_model_module_version": "1.5.0",
            "_view_count": null,
            "_view_module_version": "1.2.0",
            "_model_module": "@jupyter-widgets/controls"
          }
        },
        "c708e6b136f04eea9562b73229b66302": {
          "model_module": "@jupyter-widgets/base",
          "model_name": "LayoutModel",
          "model_module_version": "1.2.0",
          "state": {
            "_view_name": "LayoutView",
            "grid_template_rows": null,
            "right": null,
            "justify_content": null,
            "_view_module": "@jupyter-widgets/base",
            "overflow": null,
            "_model_module_version": "1.2.0",
            "_view_count": null,
            "flex_flow": null,
            "width": null,
            "min_width": null,
            "border": null,
            "align_items": null,
            "bottom": null,
            "_model_module": "@jupyter-widgets/base",
            "top": null,
            "grid_column": null,
            "overflow_y": null,
            "overflow_x": null,
            "grid_auto_flow": null,
            "grid_area": null,
            "grid_template_columns": null,
            "flex": null,
            "_model_name": "LayoutModel",
            "justify_items": null,
            "grid_row": null,
            "max_height": null,
            "align_content": null,
            "visibility": null,
            "align_self": null,
            "height": null,
            "min_height": null,
            "padding": null,
            "grid_auto_rows": null,
            "grid_gap": null,
            "max_width": null,
            "order": null,
            "_view_module_version": "1.2.0",
            "grid_template_areas": null,
            "object_position": null,
            "object_fit": null,
            "grid_auto_columns": null,
            "margin": null,
            "display": null,
            "left": null
          }
        }
      }
    }
  },
  "cells": [
    {
      "cell_type": "markdown",
      "metadata": {
        "id": "view-in-github",
        "colab_type": "text"
      },
      "source": [
        "<a href=\"https://colab.research.google.com/github/shfarhaan/pegasus_abstractive_summariztion/blob/main/PEGASUS_Notebook_v_0_0_1.ipynb\" target=\"_parent\"><img src=\"https://colab.research.google.com/assets/colab-badge.svg\" alt=\"Open In Colab\"/></a>"
      ]
    },
    {
      "cell_type": "markdown",
      "source": [
        "# **PEGASUS: Pre-training with Extracted Gap-sentences for Abstractive Summarization**\n",
        "\n",
        "*Jingqing Zhang, Yao Zhao, Mohammad Saleh and Peter J. Liu on Dec 18, 2019.*\n",
        "\n",
        "Paper url: [*Click here*](https://arxiv.org/pdf/1912.08777.pdf)"
      ],
      "metadata": {
        "id": "vHV3FyNQY1-x"
      }
    },
    {
      "cell_type": "markdown",
      "source": [
        "## **0. Installing Dependencies**"
      ],
      "metadata": {
        "id": "nXImPWISvx8e"
      }
    },
    {
      "cell_type": "code",
      "source": [
        "# install pytorch\n",
        "\n",
        "!pip3 install torch"
      ],
      "metadata": {
        "colab": {
          "base_uri": "https://localhost:8080/"
        },
        "id": "l-QOFhSMyDZx",
        "outputId": "dfdede5b-14a5-44b0-fa0f-c4bf09750c5c"
      },
      "execution_count": 3,
      "outputs": [
        {
          "output_type": "stream",
          "name": "stdout",
          "text": [
            "Requirement already satisfied: torch in /usr/local/lib/python3.7/dist-packages (1.10.0+cu111)\n",
            "Requirement already satisfied: typing-extensions in /usr/local/lib/python3.7/dist-packages (from torch) (3.10.0.2)\n"
          ]
        }
      ]
    },
    {
      "cell_type": "code",
      "source": [
        "# install transformers, because this provides us means to install PEGASUS, via Hugging Face Transformers\n",
        "\n",
        "!pip3 install transformers"
      ],
      "metadata": {
        "colab": {
          "base_uri": "https://localhost:8080/"
        },
        "id": "9kbVngdlPqYG",
        "outputId": "e4477b8c-dca7-4f7c-d3e2-e4d824ab9540"
      },
      "execution_count": 4,
      "outputs": [
        {
          "output_type": "stream",
          "name": "stdout",
          "text": [
            "Collecting transformers\n",
            "  Downloading transformers-4.16.2-py3-none-any.whl (3.5 MB)\n",
            "\u001b[K     |████████████████████████████████| 3.5 MB 23.0 MB/s \n",
            "\u001b[?25hCollecting huggingface-hub<1.0,>=0.1.0\n",
            "  Downloading huggingface_hub-0.4.0-py3-none-any.whl (67 kB)\n",
            "\u001b[K     |████████████████████████████████| 67 kB 4.6 MB/s \n",
            "\u001b[?25hCollecting tokenizers!=0.11.3,>=0.10.1\n",
            "  Downloading tokenizers-0.11.5-cp37-cp37m-manylinux_2_12_x86_64.manylinux2010_x86_64.whl (6.8 MB)\n",
            "\u001b[K     |████████████████████████████████| 6.8 MB 34.4 MB/s \n",
            "\u001b[?25hCollecting pyyaml>=5.1\n",
            "  Downloading PyYAML-6.0-cp37-cp37m-manylinux_2_5_x86_64.manylinux1_x86_64.manylinux_2_12_x86_64.manylinux2010_x86_64.whl (596 kB)\n",
            "\u001b[K     |████████████████████████████████| 596 kB 56.9 MB/s \n",
            "\u001b[?25hRequirement already satisfied: regex!=2019.12.17 in /usr/local/lib/python3.7/dist-packages (from transformers) (2019.12.20)\n",
            "Requirement already satisfied: packaging>=20.0 in /usr/local/lib/python3.7/dist-packages (from transformers) (21.3)\n",
            "Requirement already satisfied: numpy>=1.17 in /usr/local/lib/python3.7/dist-packages (from transformers) (1.21.5)\n",
            "Requirement already satisfied: importlib-metadata in /usr/local/lib/python3.7/dist-packages (from transformers) (4.11.0)\n",
            "Collecting sacremoses\n",
            "  Downloading sacremoses-0.0.47-py2.py3-none-any.whl (895 kB)\n",
            "\u001b[K     |████████████████████████████████| 895 kB 53.9 MB/s \n",
            "\u001b[?25hRequirement already satisfied: requests in /usr/local/lib/python3.7/dist-packages (from transformers) (2.23.0)\n",
            "Requirement already satisfied: filelock in /usr/local/lib/python3.7/dist-packages (from transformers) (3.4.2)\n",
            "Requirement already satisfied: tqdm>=4.27 in /usr/local/lib/python3.7/dist-packages (from transformers) (4.62.3)\n",
            "Requirement already satisfied: typing-extensions>=3.7.4.3 in /usr/local/lib/python3.7/dist-packages (from huggingface-hub<1.0,>=0.1.0->transformers) (3.10.0.2)\n",
            "Requirement already satisfied: pyparsing!=3.0.5,>=2.0.2 in /usr/local/lib/python3.7/dist-packages (from packaging>=20.0->transformers) (3.0.7)\n",
            "Requirement already satisfied: zipp>=0.5 in /usr/local/lib/python3.7/dist-packages (from importlib-metadata->transformers) (3.7.0)\n",
            "Requirement already satisfied: certifi>=2017.4.17 in /usr/local/lib/python3.7/dist-packages (from requests->transformers) (2021.10.8)\n",
            "Requirement already satisfied: idna<3,>=2.5 in /usr/local/lib/python3.7/dist-packages (from requests->transformers) (2.10)\n",
            "Requirement already satisfied: urllib3!=1.25.0,!=1.25.1,<1.26,>=1.21.1 in /usr/local/lib/python3.7/dist-packages (from requests->transformers) (1.24.3)\n",
            "Requirement already satisfied: chardet<4,>=3.0.2 in /usr/local/lib/python3.7/dist-packages (from requests->transformers) (3.0.4)\n",
            "Requirement already satisfied: click in /usr/local/lib/python3.7/dist-packages (from sacremoses->transformers) (7.1.2)\n",
            "Requirement already satisfied: joblib in /usr/local/lib/python3.7/dist-packages (from sacremoses->transformers) (1.1.0)\n",
            "Requirement already satisfied: six in /usr/local/lib/python3.7/dist-packages (from sacremoses->transformers) (1.15.0)\n",
            "Installing collected packages: pyyaml, tokenizers, sacremoses, huggingface-hub, transformers\n",
            "  Attempting uninstall: pyyaml\n",
            "    Found existing installation: PyYAML 3.13\n",
            "    Uninstalling PyYAML-3.13:\n",
            "      Successfully uninstalled PyYAML-3.13\n",
            "Successfully installed huggingface-hub-0.4.0 pyyaml-6.0 sacremoses-0.0.47 tokenizers-0.11.5 transformers-4.16.2\n"
          ]
        }
      ]
    },
    {
      "cell_type": "code",
      "source": [
        "!pip install SentencePiece"
      ],
      "metadata": {
        "colab": {
          "base_uri": "https://localhost:8080/"
        },
        "id": "KLmmPDoimNWC",
        "outputId": "0f468796-6ecf-450e-a704-ae3a08a92ddc"
      },
      "execution_count": 5,
      "outputs": [
        {
          "output_type": "stream",
          "name": "stdout",
          "text": [
            "Collecting SentencePiece\n",
            "  Downloading sentencepiece-0.1.96-cp37-cp37m-manylinux_2_17_x86_64.manylinux2014_x86_64.whl (1.2 MB)\n",
            "\u001b[?25l\r\u001b[K     |▎                               | 10 kB 21.0 MB/s eta 0:00:01\r\u001b[K     |▌                               | 20 kB 27.4 MB/s eta 0:00:01\r\u001b[K     |▉                               | 30 kB 32.3 MB/s eta 0:00:01\r\u001b[K     |█                               | 40 kB 14.5 MB/s eta 0:00:01\r\u001b[K     |█▍                              | 51 kB 12.9 MB/s eta 0:00:01\r\u001b[K     |█▋                              | 61 kB 14.9 MB/s eta 0:00:01\r\u001b[K     |██                              | 71 kB 14.6 MB/s eta 0:00:01\r\u001b[K     |██▏                             | 81 kB 14.1 MB/s eta 0:00:01\r\u001b[K     |██▍                             | 92 kB 15.6 MB/s eta 0:00:01\r\u001b[K     |██▊                             | 102 kB 14.4 MB/s eta 0:00:01\r\u001b[K     |███                             | 112 kB 14.4 MB/s eta 0:00:01\r\u001b[K     |███▎                            | 122 kB 14.4 MB/s eta 0:00:01\r\u001b[K     |███▌                            | 133 kB 14.4 MB/s eta 0:00:01\r\u001b[K     |███▉                            | 143 kB 14.4 MB/s eta 0:00:01\r\u001b[K     |████                            | 153 kB 14.4 MB/s eta 0:00:01\r\u001b[K     |████▎                           | 163 kB 14.4 MB/s eta 0:00:01\r\u001b[K     |████▋                           | 174 kB 14.4 MB/s eta 0:00:01\r\u001b[K     |████▉                           | 184 kB 14.4 MB/s eta 0:00:01\r\u001b[K     |█████▏                          | 194 kB 14.4 MB/s eta 0:00:01\r\u001b[K     |█████▍                          | 204 kB 14.4 MB/s eta 0:00:01\r\u001b[K     |█████▊                          | 215 kB 14.4 MB/s eta 0:00:01\r\u001b[K     |██████                          | 225 kB 14.4 MB/s eta 0:00:01\r\u001b[K     |██████▏                         | 235 kB 14.4 MB/s eta 0:00:01\r\u001b[K     |██████▌                         | 245 kB 14.4 MB/s eta 0:00:01\r\u001b[K     |██████▊                         | 256 kB 14.4 MB/s eta 0:00:01\r\u001b[K     |███████                         | 266 kB 14.4 MB/s eta 0:00:01\r\u001b[K     |███████▎                        | 276 kB 14.4 MB/s eta 0:00:01\r\u001b[K     |███████▋                        | 286 kB 14.4 MB/s eta 0:00:01\r\u001b[K     |███████▉                        | 296 kB 14.4 MB/s eta 0:00:01\r\u001b[K     |████████                        | 307 kB 14.4 MB/s eta 0:00:01\r\u001b[K     |████████▍                       | 317 kB 14.4 MB/s eta 0:00:01\r\u001b[K     |████████▋                       | 327 kB 14.4 MB/s eta 0:00:01\r\u001b[K     |█████████                       | 337 kB 14.4 MB/s eta 0:00:01\r\u001b[K     |█████████▏                      | 348 kB 14.4 MB/s eta 0:00:01\r\u001b[K     |█████████▌                      | 358 kB 14.4 MB/s eta 0:00:01\r\u001b[K     |█████████▊                      | 368 kB 14.4 MB/s eta 0:00:01\r\u001b[K     |██████████                      | 378 kB 14.4 MB/s eta 0:00:01\r\u001b[K     |██████████▎                     | 389 kB 14.4 MB/s eta 0:00:01\r\u001b[K     |██████████▌                     | 399 kB 14.4 MB/s eta 0:00:01\r\u001b[K     |██████████▉                     | 409 kB 14.4 MB/s eta 0:00:01\r\u001b[K     |███████████                     | 419 kB 14.4 MB/s eta 0:00:01\r\u001b[K     |███████████▍                    | 430 kB 14.4 MB/s eta 0:00:01\r\u001b[K     |███████████▋                    | 440 kB 14.4 MB/s eta 0:00:01\r\u001b[K     |███████████▉                    | 450 kB 14.4 MB/s eta 0:00:01\r\u001b[K     |████████████▏                   | 460 kB 14.4 MB/s eta 0:00:01\r\u001b[K     |████████████▍                   | 471 kB 14.4 MB/s eta 0:00:01\r\u001b[K     |████████████▊                   | 481 kB 14.4 MB/s eta 0:00:01\r\u001b[K     |█████████████                   | 491 kB 14.4 MB/s eta 0:00:01\r\u001b[K     |█████████████▎                  | 501 kB 14.4 MB/s eta 0:00:01\r\u001b[K     |█████████████▌                  | 512 kB 14.4 MB/s eta 0:00:01\r\u001b[K     |█████████████▊                  | 522 kB 14.4 MB/s eta 0:00:01\r\u001b[K     |██████████████                  | 532 kB 14.4 MB/s eta 0:00:01\r\u001b[K     |██████████████▎                 | 542 kB 14.4 MB/s eta 0:00:01\r\u001b[K     |██████████████▋                 | 552 kB 14.4 MB/s eta 0:00:01\r\u001b[K     |██████████████▉                 | 563 kB 14.4 MB/s eta 0:00:01\r\u001b[K     |███████████████▏                | 573 kB 14.4 MB/s eta 0:00:01\r\u001b[K     |███████████████▍                | 583 kB 14.4 MB/s eta 0:00:01\r\u001b[K     |███████████████▋                | 593 kB 14.4 MB/s eta 0:00:01\r\u001b[K     |████████████████                | 604 kB 14.4 MB/s eta 0:00:01\r\u001b[K     |████████████████▏               | 614 kB 14.4 MB/s eta 0:00:01\r\u001b[K     |████████████████▌               | 624 kB 14.4 MB/s eta 0:00:01\r\u001b[K     |████████████████▊               | 634 kB 14.4 MB/s eta 0:00:01\r\u001b[K     |█████████████████               | 645 kB 14.4 MB/s eta 0:00:01\r\u001b[K     |█████████████████▎              | 655 kB 14.4 MB/s eta 0:00:01\r\u001b[K     |█████████████████▌              | 665 kB 14.4 MB/s eta 0:00:01\r\u001b[K     |█████████████████▉              | 675 kB 14.4 MB/s eta 0:00:01\r\u001b[K     |██████████████████              | 686 kB 14.4 MB/s eta 0:00:01\r\u001b[K     |██████████████████▍             | 696 kB 14.4 MB/s eta 0:00:01\r\u001b[K     |██████████████████▋             | 706 kB 14.4 MB/s eta 0:00:01\r\u001b[K     |███████████████████             | 716 kB 14.4 MB/s eta 0:00:01\r\u001b[K     |███████████████████▏            | 727 kB 14.4 MB/s eta 0:00:01\r\u001b[K     |███████████████████▍            | 737 kB 14.4 MB/s eta 0:00:01\r\u001b[K     |███████████████████▊            | 747 kB 14.4 MB/s eta 0:00:01\r\u001b[K     |████████████████████            | 757 kB 14.4 MB/s eta 0:00:01\r\u001b[K     |████████████████████▎           | 768 kB 14.4 MB/s eta 0:00:01\r\u001b[K     |████████████████████▌           | 778 kB 14.4 MB/s eta 0:00:01\r\u001b[K     |████████████████████▉           | 788 kB 14.4 MB/s eta 0:00:01\r\u001b[K     |█████████████████████           | 798 kB 14.4 MB/s eta 0:00:01\r\u001b[K     |█████████████████████▎          | 808 kB 14.4 MB/s eta 0:00:01\r\u001b[K     |█████████████████████▋          | 819 kB 14.4 MB/s eta 0:00:01\r\u001b[K     |█████████████████████▉          | 829 kB 14.4 MB/s eta 0:00:01\r\u001b[K     |██████████████████████▏         | 839 kB 14.4 MB/s eta 0:00:01\r\u001b[K     |██████████████████████▍         | 849 kB 14.4 MB/s eta 0:00:01\r\u001b[K     |██████████████████████▊         | 860 kB 14.4 MB/s eta 0:00:01\r\u001b[K     |███████████████████████         | 870 kB 14.4 MB/s eta 0:00:01\r\u001b[K     |███████████████████████▏        | 880 kB 14.4 MB/s eta 0:00:01\r\u001b[K     |███████████████████████▌        | 890 kB 14.4 MB/s eta 0:00:01\r\u001b[K     |███████████████████████▊        | 901 kB 14.4 MB/s eta 0:00:01\r\u001b[K     |████████████████████████        | 911 kB 14.4 MB/s eta 0:00:01\r\u001b[K     |████████████████████████▎       | 921 kB 14.4 MB/s eta 0:00:01\r\u001b[K     |████████████████████████▋       | 931 kB 14.4 MB/s eta 0:00:01\r\u001b[K     |████████████████████████▉       | 942 kB 14.4 MB/s eta 0:00:01\r\u001b[K     |█████████████████████████       | 952 kB 14.4 MB/s eta 0:00:01\r\u001b[K     |█████████████████████████▍      | 962 kB 14.4 MB/s eta 0:00:01\r\u001b[K     |█████████████████████████▋      | 972 kB 14.4 MB/s eta 0:00:01\r\u001b[K     |██████████████████████████      | 983 kB 14.4 MB/s eta 0:00:01\r\u001b[K     |██████████████████████████▏     | 993 kB 14.4 MB/s eta 0:00:01\r\u001b[K     |██████████████████████████▌     | 1.0 MB 14.4 MB/s eta 0:00:01\r\u001b[K     |██████████████████████████▊     | 1.0 MB 14.4 MB/s eta 0:00:01\r\u001b[K     |███████████████████████████     | 1.0 MB 14.4 MB/s eta 0:00:01\r\u001b[K     |███████████████████████████▎    | 1.0 MB 14.4 MB/s eta 0:00:01\r\u001b[K     |███████████████████████████▌    | 1.0 MB 14.4 MB/s eta 0:00:01\r\u001b[K     |███████████████████████████▉    | 1.1 MB 14.4 MB/s eta 0:00:01\r\u001b[K     |████████████████████████████    | 1.1 MB 14.4 MB/s eta 0:00:01\r\u001b[K     |████████████████████████████▍   | 1.1 MB 14.4 MB/s eta 0:00:01\r\u001b[K     |████████████████████████████▋   | 1.1 MB 14.4 MB/s eta 0:00:01\r\u001b[K     |████████████████████████████▉   | 1.1 MB 14.4 MB/s eta 0:00:01\r\u001b[K     |█████████████████████████████▏  | 1.1 MB 14.4 MB/s eta 0:00:01\r\u001b[K     |█████████████████████████████▍  | 1.1 MB 14.4 MB/s eta 0:00:01\r\u001b[K     |█████████████████████████████▊  | 1.1 MB 14.4 MB/s eta 0:00:01\r\u001b[K     |██████████████████████████████  | 1.1 MB 14.4 MB/s eta 0:00:01\r\u001b[K     |██████████████████████████████▎ | 1.1 MB 14.4 MB/s eta 0:00:01\r\u001b[K     |██████████████████████████████▌ | 1.2 MB 14.4 MB/s eta 0:00:01\r\u001b[K     |██████████████████████████████▊ | 1.2 MB 14.4 MB/s eta 0:00:01\r\u001b[K     |███████████████████████████████ | 1.2 MB 14.4 MB/s eta 0:00:01\r\u001b[K     |███████████████████████████████▎| 1.2 MB 14.4 MB/s eta 0:00:01\r\u001b[K     |███████████████████████████████▋| 1.2 MB 14.4 MB/s eta 0:00:01\r\u001b[K     |███████████████████████████████▉| 1.2 MB 14.4 MB/s eta 0:00:01\r\u001b[K     |████████████████████████████████| 1.2 MB 14.4 MB/s \n",
            "\u001b[?25hInstalling collected packages: SentencePiece\n",
            "Successfully installed SentencePiece-0.1.96\n"
          ]
        }
      ]
    },
    {
      "cell_type": "markdown",
      "source": [
        "## **1. Import and Load Our Model**"
      ],
      "metadata": {
        "id": "24ofMCqMbgG5"
      }
    },
    {
      "cell_type": "code",
      "source": [
        "# Importing dependencies from transformers\n",
        "from transformers import PegasusForConditionalGeneration, PegasusTokenizerFast"
      ],
      "metadata": {
        "id": "zfVKM10dR0qu"
      },
      "execution_count": 6,
      "outputs": []
    },
    {
      "cell_type": "code",
      "source": [
        "# Load Tokenizer\n",
        "tokenizer = PegasusTokenizerFast.from_pretrained(\"google/pegasus-xsum\")"
      ],
      "metadata": {
        "colab": {
          "base_uri": "https://localhost:8080/",
          "height": 177,
          "referenced_widgets": [
            "df7b8bd7ccc24f34a3d3c0fccf1cf96b",
            "80ad4131b7fb4b169bb29690ed3c2494",
            "d9d9bd4326f64ef7a2390a443fa474ee",
            "d652d7a97d7d430a82fff602c0f7a158",
            "382b287fd5e14e958060501c306b2dc7",
            "e818fbba9dec4f459790655dea853f76",
            "a571b41429144af3b513e4a9fdc6291f",
            "e3b6a9d4ebd14f1dbaef0ae28b93a61c",
            "4e9642faa97d41cabb4163d6694a27d9",
            "684d9864f3824e798f328059e69c0012",
            "b205b0f92bd0413299e7248a8b2a8c0a",
            "ae7e3cadd0bc41ae87bf2532cc81a7f6",
            "2cc1179fd48b403e9bed7ec7daf0a177",
            "8f66cbf1e54a4215b634cf35f8cb9203",
            "65d470382505447294369fdd1a768e77",
            "61b7da073a1c4eacb3736704cafe3e3c",
            "05cab17c43c7445081f0b3fc23750889",
            "f7de332e002b441c884db9e740b99d28",
            "bdcb160986e146a0b679b6d1199333ff",
            "29c57aad08b34ec28aaa0120773e6a58",
            "e298cbb90c3f4130946d6178627f522c",
            "44ac886c131c4f3f964a46e25d15eac9",
            "12b7acfd88b34983a423336b3b202f4c",
            "01bfd2477878417fb6681989a9f634ac",
            "5fcb11d58e414dff8a80bd31757cad59",
            "7ff3272ecaaa4d3185389c28cf02c575",
            "1156852a3d064edca6e5fdf3768a2a90",
            "6c7b725c507b4a1e851978a2024edb74",
            "508716e11d074494811996d968aa1d66",
            "ce9d77db57464f96bf056bf5eb7183f5",
            "384353b43f754abaa9d56e2c5bf3d5f2",
            "d298314b3d7f44e786b6bb5f405ae468",
            "15940d3376c84ae199decfdb405bee6c",
            "c7e674d0a6614c01b5efe837733cb88f",
            "8cbd200497144745aab7e9df64a10e2e",
            "02599539bbea44daa4d54716aa79f3a9",
            "94380669f3b34fd094694a4d3f1ed34b",
            "2a06748019354fe89314dee478a706da",
            "34a9465544034daeb9ad7b9c0be4da7a",
            "b18ca7096f5044d5a447e756323901ab",
            "d4312b94e696437ca66c889bae7a8927",
            "573b90fd5caf4e739cb62547eeefd284",
            "e54cbb4040c64c92a2d6f19355ce0636",
            "594ff0ae2a0e4d6da660544d6e027955",
            "fe1e4edaee134c4f8e4167d1043d37d3",
            "462a0663ecda40fe90317f762cb8e841",
            "a198332b4baf4a4ba664a2173b0becd2",
            "d6c80599c4094d43946e22fd8da6499a",
            "7c972915b1704d1eaf12f9900c4842ab",
            "528e1897d89b45a0b68e405658b50551",
            "0f81e49c8def412db0ec3349d555ee94",
            "778e6c670ca243d08b9f6a888a06aa93",
            "8373188599774853a66fc494a39a683d",
            "9a3e7e38e3f9434da425cc09c78f116e",
            "592ed81082774e5fb96255989e0f0ab8"
          ]
        },
        "id": "BKVpMOVUR0Sr",
        "outputId": "dbe16484-25d2-4bae-ed15-a55a067dc038"
      },
      "execution_count": 7,
      "outputs": [
        {
          "output_type": "display_data",
          "data": {
            "application/vnd.jupyter.widget-view+json": {
              "model_id": "df7b8bd7ccc24f34a3d3c0fccf1cf96b",
              "version_minor": 0,
              "version_major": 2
            },
            "text/plain": [
              "Downloading:   0%|          | 0.00/87.0 [00:00<?, ?B/s]"
            ]
          },
          "metadata": {}
        },
        {
          "output_type": "display_data",
          "data": {
            "application/vnd.jupyter.widget-view+json": {
              "model_id": "ae7e3cadd0bc41ae87bf2532cc81a7f6",
              "version_minor": 0,
              "version_major": 2
            },
            "text/plain": [
              "Downloading:   0%|          | 0.00/1.82M [00:00<?, ?B/s]"
            ]
          },
          "metadata": {}
        },
        {
          "output_type": "display_data",
          "data": {
            "application/vnd.jupyter.widget-view+json": {
              "model_id": "12b7acfd88b34983a423336b3b202f4c",
              "version_minor": 0,
              "version_major": 2
            },
            "text/plain": [
              "Downloading:   0%|          | 0.00/3.36M [00:00<?, ?B/s]"
            ]
          },
          "metadata": {}
        },
        {
          "output_type": "display_data",
          "data": {
            "application/vnd.jupyter.widget-view+json": {
              "model_id": "c7e674d0a6614c01b5efe837733cb88f",
              "version_minor": 0,
              "version_major": 2
            },
            "text/plain": [
              "Downloading:   0%|          | 0.00/65.0 [00:00<?, ?B/s]"
            ]
          },
          "metadata": {}
        },
        {
          "output_type": "display_data",
          "data": {
            "application/vnd.jupyter.widget-view+json": {
              "model_id": "fe1e4edaee134c4f8e4167d1043d37d3",
              "version_minor": 0,
              "version_major": 2
            },
            "text/plain": [
              "Downloading:   0%|          | 0.00/1.36k [00:00<?, ?B/s]"
            ]
          },
          "metadata": {}
        }
      ]
    },
    {
      "cell_type": "code",
      "source": [
        "# Load Model\n",
        "model = PegasusForConditionalGeneration.from_pretrained(\"google/pegasus-xsum\")"
      ],
      "metadata": {
        "colab": {
          "base_uri": "https://localhost:8080/",
          "height": 49,
          "referenced_widgets": [
            "bb9ea132c630482eb9f81cd5b00a52b6",
            "a0fea082c5d94a3c9bb41e934bbffcaf",
            "ab00e2f2620b48ad986a4cafa64d0efc",
            "b066e69d61304c069f3d6776ed111562",
            "08169c73b15a46529324d566225acdbb",
            "45a78ed9152942a1ad8f3f1d8618c5db",
            "5b989124624a4ff6bd8575fe2abdd58c",
            "4d4f04efcd7c4415bfe6cc85863bd4d4",
            "8044c378eea14ebdb65dd66d32717161",
            "bc6d5c2fe1b94abd82b3614f426eacea",
            "c708e6b136f04eea9562b73229b66302"
          ]
        },
        "id": "_spDb83VR0Qu",
        "outputId": "01149972-f6d1-4d91-fae6-4f6a8edda198"
      },
      "execution_count": 8,
      "outputs": [
        {
          "output_type": "display_data",
          "data": {
            "application/vnd.jupyter.widget-view+json": {
              "model_id": "bb9ea132c630482eb9f81cd5b00a52b6",
              "version_minor": 0,
              "version_major": 2
            },
            "text/plain": [
              "Downloading:   0%|          | 0.00/2.12G [00:00<?, ?B/s]"
            ]
          },
          "metadata": {}
        }
      ]
    },
    {
      "cell_type": "markdown",
      "source": [
        "## **2. Perform Abstractive Summarization**"
      ],
      "metadata": {
        "id": "eWKNVNkXR5CL"
      }
    },
    {
      "cell_type": "code",
      "source": [
        "text = \"\"\"\n",
        "Recent work pre-training Transformers with self-supervised objectives on large text corpora has shown great success when fine-tuned on downstream NLP tasks including text summa\u0002rization. However, pre-training objectives tai\u0002lored for abstractive text summarization have\n",
        "not been explored. Furthermore there is a lack of systematic evaluation across diverse do\u0002mains. In this work, we propose pre-training\n",
        "large Transformer-based encoder-decoder mod\u0002els on massive text corpora with a new self\u0002supervised objective. In PEGASUS, important\n",
        "sentences are removed/masked from an input doc\u0002ument and are generated together as one output sequence from the remaining sentences, similar\n",
        "to an extractive summary. We evaluated our best PEGASUS model on 12 downstream summariza\u0002tion tasks spanning news, science, stories, instruc\u0002tions, emails, patents, and legislative bills. Experi\u0002ments demonstrate it achieves state-of-the-art per\u0002formance on all 12 downstream datasets measured\n",
        "by ROUGE scores. Our model also shows surpris\u0002ing performance on low-resource summarization, surpassing previous state-of-the-art results on 6 datasets with only 1000 examples. Finally we\n",
        "validated our results using human evaluation and show that our model summaries achieve human performance on multiple datasets.\n",
        "\"\"\""
      ],
      "metadata": {
        "id": "vTghZ7wpR0I8"
      },
      "execution_count": 9,
      "outputs": []
    },
    {
      "cell_type": "code",
      "source": [
        "# Create Tokens - number representation of our text\n",
        "\n",
        "tokens = tokenizer(text, truncation = True, padding=\"longest\", return_tensors=\"pt\")"
      ],
      "metadata": {
        "id": "cirF09RNR0G0"
      },
      "execution_count": 10,
      "outputs": []
    },
    {
      "cell_type": "code",
      "source": [
        "tokens"
      ],
      "metadata": {
        "id": "2vXXHx-eR0E0",
        "colab": {
          "base_uri": "https://localhost:8080/"
        },
        "outputId": "c98aa092-bc20-4054-dd44-09f2618784c4"
      },
      "execution_count": 11,
      "outputs": [
        {
          "output_type": "execute_result",
          "data": {
            "text/plain": [
              "{'input_ids': tensor([[13618,   201,  1133,   121, 18006, 38979,   122,   813,   121, 83465,\n",
              "          4358,   124,   423,  1352,   110, 88758,   148,  1673,   255,   924,\n",
              "           173,  1226,   121, 37126,   124, 18030, 36789,  2722,   330,  1352,\n",
              "          5906,  6520,  3884,   107,   611,   108,  1133,   121, 18006,  4358,\n",
              "          5516,   118,  7093,  5551,  1352,  5906,  6520,  3884,   133,   146,\n",
              "           174,  8678,   107,  5689,   186,   117,   114,  1905,   113, 11624,\n",
              "          4051,   482,  2766,  9982,   107,   222,   136,   201,   108,   145,\n",
              "         10287,  1133,   121, 18006,   423, 51979,   121,   936, 40753,   121,\n",
              "          2534, 56636,  1581,   124,  2926,  1352,   110, 88758,   122,   114,\n",
              "           177,   813, 83465,  4129,   107,   222, 49921, 89637,   108,   356,\n",
              "          9750,   127,  2515,   191, 33238,   316,   135,   142,  3196,  2199,\n",
              "           111,   127,  3943,   424,   130,   156,  2940,  5936,   135,   109,\n",
              "          2756,  9750,   108,   984,   112,   142, 73840,  5627,   107,   184,\n",
              "          8905,   150,   229, 49921, 89637,   861,   124,   665, 18030,  5906,\n",
              "          6520,  3884,  2722, 14812,   990,   108,  1578,   108,  1357,   108,\n",
              "          2621,   108,  4031,   108, 13506,   108,   111,  9175,  4074,   107,\n",
              "         57148,  4454,   126, 28336,   449,   121,  1313,   121,   544,   121,\n",
              "          3904,   637,   124,   149,   665, 18030, 24089,  5844,   141,   840,\n",
              "         34823, 13601,  4198,   107,   409,   861,   163,   939,  5946,   637,\n",
              "           124,   580,   121, 55212,  5906,  6520,  3884,   108, 44144,  1331,\n",
              "           449,   121,  1313,   121,   544,   121,  3904,   602,   124,   530,\n",
              "         24089,   122,   209,  4789,  2724,   107,  4584,   145, 17788,   150,\n",
              "           602,   303,   883,  4051,   111,   403,   120,   150,   861, 27533,\n",
              "          1433,   883,   637,   124,  1079, 24089,   107,   110,     1]]), 'attention_mask': tensor([[1, 1, 1, 1, 1, 1, 1, 1, 1, 1, 1, 1, 1, 1, 1, 1, 1, 1, 1, 1, 1, 1, 1, 1,\n",
              "         1, 1, 1, 1, 1, 1, 1, 1, 1, 1, 1, 1, 1, 1, 1, 1, 1, 1, 1, 1, 1, 1, 1, 1,\n",
              "         1, 1, 1, 1, 1, 1, 1, 1, 1, 1, 1, 1, 1, 1, 1, 1, 1, 1, 1, 1, 1, 1, 1, 1,\n",
              "         1, 1, 1, 1, 1, 1, 1, 1, 1, 1, 1, 1, 1, 1, 1, 1, 1, 1, 1, 1, 1, 1, 1, 1,\n",
              "         1, 1, 1, 1, 1, 1, 1, 1, 1, 1, 1, 1, 1, 1, 1, 1, 1, 1, 1, 1, 1, 1, 1, 1,\n",
              "         1, 1, 1, 1, 1, 1, 1, 1, 1, 1, 1, 1, 1, 1, 1, 1, 1, 1, 1, 1, 1, 1, 1, 1,\n",
              "         1, 1, 1, 1, 1, 1, 1, 1, 1, 1, 1, 1, 1, 1, 1, 1, 1, 1, 1, 1, 1, 1, 1, 1,\n",
              "         1, 1, 1, 1, 1, 1, 1, 1, 1, 1, 1, 1, 1, 1, 1, 1, 1, 1, 1, 1, 1, 1, 1, 1,\n",
              "         1, 1, 1, 1, 1, 1, 1, 1, 1, 1, 1, 1, 1, 1, 1, 1, 1, 1, 1, 1, 1, 1, 1, 1,\n",
              "         1, 1, 1, 1, 1, 1, 1, 1, 1, 1, 1, 1, 1, 1, 1, 1, 1, 1, 1, 1, 1, 1, 1]])}"
            ]
          },
          "metadata": {},
          "execution_count": 11
        }
      ]
    },
    {
      "cell_type": "code",
      "source": [
        "# Summarize\n",
        "summary = model.generate(**tokens)"
      ],
      "metadata": {
        "id": "1u-5ZuPAR0BK"
      },
      "execution_count": 14,
      "outputs": []
    },
    {
      "cell_type": "markdown",
      "source": [
        "By using ****tokens** we were able to unpack our dictionary i.e. the data inside the tokens"
      ],
      "metadata": {
        "id": "b6Qelv9scjvJ"
      }
    },
    {
      "cell_type": "code",
      "source": [
        "{**tokens}"
      ],
      "metadata": {
        "id": "jsbX_6ioRqkc",
        "colab": {
          "base_uri": "https://localhost:8080/"
        },
        "outputId": "bb596e81-9e19-47f1-a802-f75ed84eb13f"
      },
      "execution_count": 15,
      "outputs": [
        {
          "output_type": "execute_result",
          "data": {
            "text/plain": [
              "{'attention_mask': tensor([[1, 1, 1, 1, 1, 1, 1, 1, 1, 1, 1, 1, 1, 1, 1, 1, 1, 1, 1, 1, 1, 1, 1, 1,\n",
              "          1, 1, 1, 1, 1, 1, 1, 1, 1, 1, 1, 1, 1, 1, 1, 1, 1, 1, 1, 1, 1, 1, 1, 1,\n",
              "          1, 1, 1, 1, 1, 1, 1, 1, 1, 1, 1, 1, 1, 1, 1, 1, 1, 1, 1, 1, 1, 1, 1, 1,\n",
              "          1, 1, 1, 1, 1, 1, 1, 1, 1, 1, 1, 1, 1, 1, 1, 1, 1, 1, 1, 1, 1, 1, 1, 1,\n",
              "          1, 1, 1, 1, 1, 1, 1, 1, 1, 1, 1, 1, 1, 1, 1, 1, 1, 1, 1, 1, 1, 1, 1, 1,\n",
              "          1, 1, 1, 1, 1, 1, 1, 1, 1, 1, 1, 1, 1, 1, 1, 1, 1, 1, 1, 1, 1, 1, 1, 1,\n",
              "          1, 1, 1, 1, 1, 1, 1, 1, 1, 1, 1, 1, 1, 1, 1, 1, 1, 1, 1, 1, 1, 1, 1, 1,\n",
              "          1, 1, 1, 1, 1, 1, 1, 1, 1, 1, 1, 1, 1, 1, 1, 1, 1, 1, 1, 1, 1, 1, 1, 1,\n",
              "          1, 1, 1, 1, 1, 1, 1, 1, 1, 1, 1, 1, 1, 1, 1, 1, 1, 1, 1, 1, 1, 1, 1, 1,\n",
              "          1, 1, 1, 1, 1, 1, 1, 1, 1, 1, 1, 1, 1, 1, 1, 1, 1, 1, 1, 1, 1, 1, 1]]),\n",
              " 'input_ids': tensor([[13618,   201,  1133,   121, 18006, 38979,   122,   813,   121, 83465,\n",
              "           4358,   124,   423,  1352,   110, 88758,   148,  1673,   255,   924,\n",
              "            173,  1226,   121, 37126,   124, 18030, 36789,  2722,   330,  1352,\n",
              "           5906,  6520,  3884,   107,   611,   108,  1133,   121, 18006,  4358,\n",
              "           5516,   118,  7093,  5551,  1352,  5906,  6520,  3884,   133,   146,\n",
              "            174,  8678,   107,  5689,   186,   117,   114,  1905,   113, 11624,\n",
              "           4051,   482,  2766,  9982,   107,   222,   136,   201,   108,   145,\n",
              "          10287,  1133,   121, 18006,   423, 51979,   121,   936, 40753,   121,\n",
              "           2534, 56636,  1581,   124,  2926,  1352,   110, 88758,   122,   114,\n",
              "            177,   813, 83465,  4129,   107,   222, 49921, 89637,   108,   356,\n",
              "           9750,   127,  2515,   191, 33238,   316,   135,   142,  3196,  2199,\n",
              "            111,   127,  3943,   424,   130,   156,  2940,  5936,   135,   109,\n",
              "           2756,  9750,   108,   984,   112,   142, 73840,  5627,   107,   184,\n",
              "           8905,   150,   229, 49921, 89637,   861,   124,   665, 18030,  5906,\n",
              "           6520,  3884,  2722, 14812,   990,   108,  1578,   108,  1357,   108,\n",
              "           2621,   108,  4031,   108, 13506,   108,   111,  9175,  4074,   107,\n",
              "          57148,  4454,   126, 28336,   449,   121,  1313,   121,   544,   121,\n",
              "           3904,   637,   124,   149,   665, 18030, 24089,  5844,   141,   840,\n",
              "          34823, 13601,  4198,   107,   409,   861,   163,   939,  5946,   637,\n",
              "            124,   580,   121, 55212,  5906,  6520,  3884,   108, 44144,  1331,\n",
              "            449,   121,  1313,   121,   544,   121,  3904,   602,   124,   530,\n",
              "          24089,   122,   209,  4789,  2724,   107,  4584,   145, 17788,   150,\n",
              "            602,   303,   883,  4051,   111,   403,   120,   150,   861, 27533,\n",
              "           1433,   883,   637,   124,  1079, 24089,   107,   110,     1]])}"
            ]
          },
          "metadata": {},
          "execution_count": 15
        }
      ]
    },
    {
      "cell_type": "code",
      "source": [
        "# Summary in tokens\n",
        "summary"
      ],
      "metadata": {
        "colab": {
          "base_uri": "https://localhost:8080/"
        },
        "id": "KRzOiL_pc7OX",
        "outputId": "a3a74012-ee3c-4f4b-eda5-cf4a4a9747a6"
      },
      "execution_count": 16,
      "outputs": [
        {
          "output_type": "execute_result",
          "data": {
            "text/plain": [
              "tensor([[    0,  3414,   121, 18006, 36789,  1581,   122,   813,   121, 83465,\n",
              "          4358,   124,   423,  1352,   110, 88758,   148,  1673,   255,   924,\n",
              "           173,  1226,   121, 37126,   124, 18030, 36789,  2722,   330,  1352,\n",
              "          5906,  6520,  3884,   107,     1]])"
            ]
          },
          "metadata": {},
          "execution_count": 16
        }
      ]
    },
    {
      "cell_type": "code",
      "source": [
        "# Decode Summary\n",
        "tokenizer.decode(summary[0])"
      ],
      "metadata": {
        "colab": {
          "base_uri": "https://localhost:8080/",
          "height": 53
        },
        "id": "LM2QyHM_dFlw",
        "outputId": "16a67c52-163a-4e6b-f12f-757ea4c84a04"
      },
      "execution_count": 21,
      "outputs": [
        {
          "output_type": "execute_result",
          "data": {
            "application/vnd.google.colaboratory.intrinsic+json": {
              "type": "string"
            },
            "text/plain": [
              "'<pad> Pre-training NLP models with self-supervised objectives on large text corpora has shown great success when fine-tuned on downstream NLP tasks including text summarization.</s>'"
            ]
          },
          "metadata": {},
          "execution_count": 21
        }
      ]
    },
    {
      "cell_type": "code",
      "source": [
        ""
      ],
      "metadata": {
        "id": "Q6mjnVyRdwsg"
      },
      "execution_count": null,
      "outputs": []
    },
    {
      "cell_type": "markdown",
      "source": [
        "<pad> Pre-training NLP models with self-supervised objectives on large text corpora has shown great success when fine-tuned on downstream NLP tasks including text summarization.</s>"
      ],
      "metadata": {
        "id": "wD6ewFK6d7N_"
      }
    }
  ]
}